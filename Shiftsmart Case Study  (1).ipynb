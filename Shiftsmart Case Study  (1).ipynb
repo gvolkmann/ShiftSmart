{
 "cells": [
  {
   "cell_type": "code",
   "execution_count": 1,
   "metadata": {},
   "outputs": [],
   "source": [
    "import os\n",
    "import pandas as pd\n",
    "import seaborn as sns\n",
    "import matplotlib.pyplot as plt\n",
    "from datetime import datetime, date\n",
    "import numpy as np"
   ]
  },
  {
   "cell_type": "code",
   "execution_count": 3,
   "metadata": {},
   "outputs": [],
   "source": [
    "path = '/Users/gwynethvolkmann/Downloads'\n",
    "os.chdir(path)"
   ]
  },
  {
   "cell_type": "code",
   "execution_count": 8,
   "metadata": {},
   "outputs": [
    {
     "name": "stderr",
     "output_type": "stream",
     "text": [
      "/opt/anaconda3/lib/python3.7/site-packages/IPython/core/interactiveshell.py:3063: DtypeWarning: Columns (15,18,20) have mixed types.Specify dtype option on import or set low_memory=False.\n",
      "  interactivity=interactivity, compiler=compiler, result=result)\n"
     ]
    },
    {
     "data": {
      "text/html": [
       "<div>\n",
       "<style scoped>\n",
       "    .dataframe tbody tr th:only-of-type {\n",
       "        vertical-align: middle;\n",
       "    }\n",
       "\n",
       "    .dataframe tbody tr th {\n",
       "        vertical-align: top;\n",
       "    }\n",
       "\n",
       "    .dataframe thead th {\n",
       "        text-align: right;\n",
       "    }\n",
       "</style>\n",
       "<table border=\"1\" class=\"dataframe\">\n",
       "  <thead>\n",
       "    <tr style=\"text-align: right;\">\n",
       "      <th></th>\n",
       "      <th>id</th>\n",
       "      <th>worker</th>\n",
       "      <th>project</th>\n",
       "      <th>status</th>\n",
       "      <th>title</th>\n",
       "      <th>start</th>\n",
       "      <th>end</th>\n",
       "      <th>duration</th>\n",
       "      <th>rate</th>\n",
       "      <th>created_at</th>\n",
       "      <th>...</th>\n",
       "      <th>checkin_at</th>\n",
       "      <th>On time</th>\n",
       "      <th>checkout_at</th>\n",
       "      <th>On time.1</th>\n",
       "      <th>performance_rating</th>\n",
       "      <th>payment_status</th>\n",
       "      <th>approval_status</th>\n",
       "      <th>payment_due</th>\n",
       "      <th>hours_worked</th>\n",
       "      <th>bonus</th>\n",
       "    </tr>\n",
       "  </thead>\n",
       "  <tbody>\n",
       "    <tr>\n",
       "      <th>0</th>\n",
       "      <td>58890</td>\n",
       "      <td>6c2978aa</td>\n",
       "      <td>Product Tester</td>\n",
       "      <td>Completed</td>\n",
       "      <td>Product Tester (Dallas)</td>\n",
       "      <td>3/25/21 20:00</td>\n",
       "      <td>3/25/21 21:30</td>\n",
       "      <td>1.5</td>\n",
       "      <td>20</td>\n",
       "      <td>3/19/21 22:51</td>\n",
       "      <td>...</td>\n",
       "      <td>3/25/21 20:13</td>\n",
       "      <td>NaN</td>\n",
       "      <td>3/25/21 22:17</td>\n",
       "      <td>NaN</td>\n",
       "      <td>1.0</td>\n",
       "      <td>paid</td>\n",
       "      <td>approved</td>\n",
       "      <td>41.40</td>\n",
       "      <td>2.06</td>\n",
       "      <td>100.0</td>\n",
       "    </tr>\n",
       "    <tr>\n",
       "      <th>1</th>\n",
       "      <td>8769</td>\n",
       "      <td>016c3ad6</td>\n",
       "      <td>Local Courier</td>\n",
       "      <td>Completed</td>\n",
       "      <td>Local Courier (Dallas)</td>\n",
       "      <td>3/26/21 14:25</td>\n",
       "      <td>3/26/21 17:00</td>\n",
       "      <td>2.5</td>\n",
       "      <td>12</td>\n",
       "      <td>3/26/21 14:19</td>\n",
       "      <td>...</td>\n",
       "      <td>3/26/21 16:37</td>\n",
       "      <td>NaN</td>\n",
       "      <td>3/26/21 18:30</td>\n",
       "      <td>NaN</td>\n",
       "      <td>1.0</td>\n",
       "      <td>paid</td>\n",
       "      <td>approved</td>\n",
       "      <td>30.00</td>\n",
       "      <td>1.88</td>\n",
       "      <td>50.0</td>\n",
       "    </tr>\n",
       "    <tr>\n",
       "      <th>2</th>\n",
       "      <td>25104</td>\n",
       "      <td>8f06633b</td>\n",
       "      <td>Product Tester</td>\n",
       "      <td>Completed</td>\n",
       "      <td>Product Tester (Dallas)</td>\n",
       "      <td>3/24/21 14:00</td>\n",
       "      <td>3/24/21 15:30</td>\n",
       "      <td>1.5</td>\n",
       "      <td>20</td>\n",
       "      <td>3/18/21 15:08</td>\n",
       "      <td>...</td>\n",
       "      <td>3/24/21 13:53</td>\n",
       "      <td>NaN</td>\n",
       "      <td>3/24/21 16:02</td>\n",
       "      <td>NaN</td>\n",
       "      <td>1.0</td>\n",
       "      <td>paid</td>\n",
       "      <td>approved</td>\n",
       "      <td>40.00</td>\n",
       "      <td>2.15</td>\n",
       "      <td>50.0</td>\n",
       "    </tr>\n",
       "    <tr>\n",
       "      <th>3</th>\n",
       "      <td>47791</td>\n",
       "      <td>b68f79f8</td>\n",
       "      <td>Local Courier</td>\n",
       "      <td>Completed</td>\n",
       "      <td>Local Courier (Sacremento)</td>\n",
       "      <td>3/23/21 22:10</td>\n",
       "      <td>3/24/21 1:10</td>\n",
       "      <td>3.0</td>\n",
       "      <td>17</td>\n",
       "      <td>3/23/21 22:08</td>\n",
       "      <td>...</td>\n",
       "      <td>3/23/21 22:09</td>\n",
       "      <td>NaN</td>\n",
       "      <td>3/24/21 4:14</td>\n",
       "      <td>NaN</td>\n",
       "      <td>1.0</td>\n",
       "      <td>paid</td>\n",
       "      <td>approved</td>\n",
       "      <td>51.00</td>\n",
       "      <td>6.09</td>\n",
       "      <td>50.0</td>\n",
       "    </tr>\n",
       "    <tr>\n",
       "      <th>4</th>\n",
       "      <td>32056</td>\n",
       "      <td>ddcb2032</td>\n",
       "      <td>Local Courier</td>\n",
       "      <td>Completed</td>\n",
       "      <td>Local Courier (SF)</td>\n",
       "      <td>3/17/21 19:45</td>\n",
       "      <td>3/17/21 22:45</td>\n",
       "      <td>3.0</td>\n",
       "      <td>19</td>\n",
       "      <td>3/17/21 19:50</td>\n",
       "      <td>...</td>\n",
       "      <td>3/17/21 19:00</td>\n",
       "      <td>NaN</td>\n",
       "      <td>3/17/21 23:00</td>\n",
       "      <td>NaN</td>\n",
       "      <td>1.0</td>\n",
       "      <td>paid</td>\n",
       "      <td>approved</td>\n",
       "      <td>65.17</td>\n",
       "      <td>3.99</td>\n",
       "      <td>20.0</td>\n",
       "    </tr>\n",
       "  </tbody>\n",
       "</table>\n",
       "<p>5 rows × 28 columns</p>\n",
       "</div>"
      ],
      "text/plain": [
       "      id    worker         project     status                       title  \\\n",
       "0  58890  6c2978aa  Product Tester  Completed     Product Tester (Dallas)   \n",
       "1   8769  016c3ad6   Local Courier  Completed      Local Courier (Dallas)   \n",
       "2  25104  8f06633b  Product Tester  Completed     Product Tester (Dallas)   \n",
       "3  47791  b68f79f8   Local Courier  Completed  Local Courier (Sacremento)   \n",
       "4  32056  ddcb2032   Local Courier  Completed          Local Courier (SF)   \n",
       "\n",
       "           start            end  duration  rate     created_at  ...  \\\n",
       "0  3/25/21 20:00  3/25/21 21:30       1.5    20  3/19/21 22:51  ...   \n",
       "1  3/26/21 14:25  3/26/21 17:00       2.5    12  3/26/21 14:19  ...   \n",
       "2  3/24/21 14:00  3/24/21 15:30       1.5    20  3/18/21 15:08  ...   \n",
       "3  3/23/21 22:10   3/24/21 1:10       3.0    17  3/23/21 22:08  ...   \n",
       "4  3/17/21 19:45  3/17/21 22:45       3.0    19  3/17/21 19:50  ...   \n",
       "\n",
       "      checkin_at On time    checkout_at On time.1 performance_rating  \\\n",
       "0  3/25/21 20:13     NaN  3/25/21 22:17       NaN                1.0   \n",
       "1  3/26/21 16:37     NaN  3/26/21 18:30       NaN                1.0   \n",
       "2  3/24/21 13:53     NaN  3/24/21 16:02       NaN                1.0   \n",
       "3  3/23/21 22:09     NaN   3/24/21 4:14       NaN                1.0   \n",
       "4  3/17/21 19:00     NaN  3/17/21 23:00       NaN                1.0   \n",
       "\n",
       "  payment_status approval_status payment_due hours_worked  bonus  \n",
       "0           paid        approved       41.40         2.06  100.0  \n",
       "1           paid        approved       30.00         1.88   50.0  \n",
       "2           paid        approved       40.00         2.15   50.0  \n",
       "3           paid        approved       51.00         6.09   50.0  \n",
       "4           paid        approved       65.17         3.99   20.0  \n",
       "\n",
       "[5 rows x 28 columns]"
      ]
     },
     "execution_count": 8,
     "metadata": {},
     "output_type": "execute_result"
    }
   ],
   "source": [
    "df = pd.read_csv(\"Shiftsmart Data.csv\")\n",
    "df.head()"
   ]
  },
  {
   "cell_type": "code",
   "execution_count": 9,
   "metadata": {},
   "outputs": [
    {
     "data": {
      "text/plain": [
       "Index(['id', 'worker', 'project', 'status', 'title', 'start', 'end',\n",
       "       'duration', 'rate', 'created_at', 'sent_at', 'seen_at', 'assigned_at',\n",
       "       'canceled_at', 'confirmed_at', 'confirmedby', 'canceled_by',\n",
       "       'confirmed_by', 'checkin_at', 'On time', 'checkout_at', 'On time.1',\n",
       "       'performance_rating', 'payment_status', 'approval_status',\n",
       "       'payment_due', 'hours_worked', 'bonus'],\n",
       "      dtype='object')"
      ]
     },
     "execution_count": 9,
     "metadata": {},
     "output_type": "execute_result"
    }
   ],
   "source": [
    "df.columns"
   ]
  },
  {
   "cell_type": "code",
   "execution_count": 10,
   "metadata": {},
   "outputs": [
    {
     "name": "stdout",
     "output_type": "stream",
     "text": [
      "<class 'pandas.core.frame.DataFrame'>\n",
      "RangeIndex: 75437 entries, 0 to 75436\n",
      "Data columns (total 28 columns):\n",
      " #   Column              Non-Null Count  Dtype  \n",
      "---  ------              --------------  -----  \n",
      " 0   id                  75437 non-null  int64  \n",
      " 1   worker              75437 non-null  object \n",
      " 2   project             75437 non-null  object \n",
      " 3   status              75437 non-null  object \n",
      " 4   title               75437 non-null  object \n",
      " 5   start               75437 non-null  object \n",
      " 6   end                 75437 non-null  object \n",
      " 7   duration            75437 non-null  float64\n",
      " 8   rate                75437 non-null  int64  \n",
      " 9   created_at          75437 non-null  object \n",
      " 10  sent_at             74931 non-null  object \n",
      " 11  seen_at             33802 non-null  object \n",
      " 12  assigned_at         8323 non-null   object \n",
      " 13  canceled_at         5438 non-null   object \n",
      " 14  confirmed_at        4547 non-null   object \n",
      " 15  confirmedby         1 non-null      object \n",
      " 16  canceled_by         4804 non-null   object \n",
      " 17  confirmed_by        235 non-null    object \n",
      " 18  checkin_at          5434 non-null   object \n",
      " 19  On time             0 non-null      float64\n",
      " 20  checkout_at         5313 non-null   object \n",
      " 21  On time.1           0 non-null      float64\n",
      " 22  performance_rating  5434 non-null   float64\n",
      " 23  payment_status      3727 non-null   object \n",
      " 24  approval_status     5554 non-null   object \n",
      " 25  payment_due         75437 non-null  float64\n",
      " 26  hours_worked        5313 non-null   float64\n",
      " 27  bonus               25345 non-null  float64\n",
      "dtypes: float64(7), int64(2), object(19)\n",
      "memory usage: 16.1+ MB\n"
     ]
    }
   ],
   "source": [
    "df.info()"
   ]
  },
  {
   "cell_type": "code",
   "execution_count": 14,
   "metadata": {},
   "outputs": [
    {
     "data": {
      "text/html": [
       "<div>\n",
       "<style scoped>\n",
       "    .dataframe tbody tr th:only-of-type {\n",
       "        vertical-align: middle;\n",
       "    }\n",
       "\n",
       "    .dataframe tbody tr th {\n",
       "        vertical-align: top;\n",
       "    }\n",
       "\n",
       "    .dataframe thead th {\n",
       "        text-align: right;\n",
       "    }\n",
       "</style>\n",
       "<table border=\"1\" class=\"dataframe\">\n",
       "  <thead>\n",
       "    <tr style=\"text-align: right;\">\n",
       "      <th></th>\n",
       "      <th>id</th>\n",
       "      <th>duration</th>\n",
       "      <th>rate</th>\n",
       "      <th>On time</th>\n",
       "      <th>On time.1</th>\n",
       "      <th>performance_rating</th>\n",
       "      <th>payment_due</th>\n",
       "      <th>hours_worked</th>\n",
       "      <th>bonus</th>\n",
       "    </tr>\n",
       "  </thead>\n",
       "  <tbody>\n",
       "    <tr>\n",
       "      <th>count</th>\n",
       "      <td>75437.000000</td>\n",
       "      <td>75437.000000</td>\n",
       "      <td>75437.000000</td>\n",
       "      <td>0.0</td>\n",
       "      <td>0.0</td>\n",
       "      <td>5434.000000</td>\n",
       "      <td>75437.000000</td>\n",
       "      <td>5313.000000</td>\n",
       "      <td>25345.000000</td>\n",
       "    </tr>\n",
       "    <tr>\n",
       "      <th>mean</th>\n",
       "      <td>37719.000000</td>\n",
       "      <td>2.763110</td>\n",
       "      <td>15.690563</td>\n",
       "      <td>NaN</td>\n",
       "      <td>NaN</td>\n",
       "      <td>50.165808</td>\n",
       "      <td>43.010835</td>\n",
       "      <td>3.226960</td>\n",
       "      <td>56.677096</td>\n",
       "    </tr>\n",
       "    <tr>\n",
       "      <th>std</th>\n",
       "      <td>21776.930466</td>\n",
       "      <td>1.308193</td>\n",
       "      <td>3.999575</td>\n",
       "      <td>NaN</td>\n",
       "      <td>NaN</td>\n",
       "      <td>28.924814</td>\n",
       "      <td>23.963840</td>\n",
       "      <td>1.733739</td>\n",
       "      <td>35.140051</td>\n",
       "    </tr>\n",
       "    <tr>\n",
       "      <th>min</th>\n",
       "      <td>1.000000</td>\n",
       "      <td>0.000000</td>\n",
       "      <td>10.000000</td>\n",
       "      <td>NaN</td>\n",
       "      <td>NaN</td>\n",
       "      <td>1.000000</td>\n",
       "      <td>0.000000</td>\n",
       "      <td>0.000000</td>\n",
       "      <td>10.000000</td>\n",
       "    </tr>\n",
       "    <tr>\n",
       "      <th>25%</th>\n",
       "      <td>18860.000000</td>\n",
       "      <td>1.500000</td>\n",
       "      <td>12.000000</td>\n",
       "      <td>NaN</td>\n",
       "      <td>NaN</td>\n",
       "      <td>25.000000</td>\n",
       "      <td>30.000000</td>\n",
       "      <td>2.080000</td>\n",
       "      <td>20.000000</td>\n",
       "    </tr>\n",
       "    <tr>\n",
       "      <th>50%</th>\n",
       "      <td>37719.000000</td>\n",
       "      <td>3.000000</td>\n",
       "      <td>17.000000</td>\n",
       "      <td>NaN</td>\n",
       "      <td>NaN</td>\n",
       "      <td>50.000000</td>\n",
       "      <td>34.000000</td>\n",
       "      <td>3.040000</td>\n",
       "      <td>50.000000</td>\n",
       "    </tr>\n",
       "    <tr>\n",
       "      <th>75%</th>\n",
       "      <td>56578.000000</td>\n",
       "      <td>4.000000</td>\n",
       "      <td>20.000000</td>\n",
       "      <td>NaN</td>\n",
       "      <td>NaN</td>\n",
       "      <td>75.000000</td>\n",
       "      <td>54.000000</td>\n",
       "      <td>4.060000</td>\n",
       "      <td>100.000000</td>\n",
       "    </tr>\n",
       "    <tr>\n",
       "      <th>max</th>\n",
       "      <td>75437.000000</td>\n",
       "      <td>16.000000</td>\n",
       "      <td>30.000000</td>\n",
       "      <td>NaN</td>\n",
       "      <td>NaN</td>\n",
       "      <td>100.000000</td>\n",
       "      <td>521.550000</td>\n",
       "      <td>24.000000</td>\n",
       "      <td>120.000000</td>\n",
       "    </tr>\n",
       "  </tbody>\n",
       "</table>\n",
       "</div>"
      ],
      "text/plain": [
       "                 id      duration          rate  On time  On time.1  \\\n",
       "count  75437.000000  75437.000000  75437.000000      0.0        0.0   \n",
       "mean   37719.000000      2.763110     15.690563      NaN        NaN   \n",
       "std    21776.930466      1.308193      3.999575      NaN        NaN   \n",
       "min        1.000000      0.000000     10.000000      NaN        NaN   \n",
       "25%    18860.000000      1.500000     12.000000      NaN        NaN   \n",
       "50%    37719.000000      3.000000     17.000000      NaN        NaN   \n",
       "75%    56578.000000      4.000000     20.000000      NaN        NaN   \n",
       "max    75437.000000     16.000000     30.000000      NaN        NaN   \n",
       "\n",
       "       performance_rating   payment_due  hours_worked         bonus  \n",
       "count         5434.000000  75437.000000   5313.000000  25345.000000  \n",
       "mean            50.165808     43.010835      3.226960     56.677096  \n",
       "std             28.924814     23.963840      1.733739     35.140051  \n",
       "min              1.000000      0.000000      0.000000     10.000000  \n",
       "25%             25.000000     30.000000      2.080000     20.000000  \n",
       "50%             50.000000     34.000000      3.040000     50.000000  \n",
       "75%             75.000000     54.000000      4.060000    100.000000  \n",
       "max            100.000000    521.550000     24.000000    120.000000  "
      ]
     },
     "execution_count": 14,
     "metadata": {},
     "output_type": "execute_result"
    }
   ],
   "source": [
    "df.describe()"
   ]
  },
  {
   "cell_type": "code",
   "execution_count": 11,
   "metadata": {},
   "outputs": [
    {
     "data": {
      "text/plain": [
       "36985"
      ]
     },
     "execution_count": 11,
     "metadata": {},
     "output_type": "execute_result"
    }
   ],
   "source": [
    "len(df[df['project'] == 'Local Courier'])"
   ]
  },
  {
   "cell_type": "code",
   "execution_count": 12,
   "metadata": {},
   "outputs": [
    {
     "data": {
      "text/plain": [
       "19504"
      ]
     },
     "execution_count": 12,
     "metadata": {},
     "output_type": "execute_result"
    }
   ],
   "source": [
    "len(df[df['project'] == 'Product Tester'])"
   ]
  },
  {
   "cell_type": "code",
   "execution_count": 13,
   "metadata": {},
   "outputs": [
    {
     "data": {
      "text/plain": [
       "18948"
      ]
     },
     "execution_count": 13,
     "metadata": {},
     "output_type": "execute_result"
    }
   ],
   "source": [
    "len(df[df['project'] == 'Customer Service (Remote)'])"
   ]
  },
  {
   "cell_type": "code",
   "execution_count": 19,
   "metadata": {},
   "outputs": [
    {
     "data": {
      "text/html": [
       "<div>\n",
       "<style scoped>\n",
       "    .dataframe tbody tr th:only-of-type {\n",
       "        vertical-align: middle;\n",
       "    }\n",
       "\n",
       "    .dataframe tbody tr th {\n",
       "        vertical-align: top;\n",
       "    }\n",
       "\n",
       "    .dataframe thead th {\n",
       "        text-align: right;\n",
       "    }\n",
       "</style>\n",
       "<table border=\"1\" class=\"dataframe\">\n",
       "  <thead>\n",
       "    <tr style=\"text-align: right;\">\n",
       "      <th></th>\n",
       "      <th>id</th>\n",
       "      <th>worker</th>\n",
       "      <th>project</th>\n",
       "      <th>status</th>\n",
       "      <th>title</th>\n",
       "      <th>start</th>\n",
       "      <th>end</th>\n",
       "      <th>duration</th>\n",
       "      <th>rate</th>\n",
       "      <th>created_at</th>\n",
       "      <th>...</th>\n",
       "      <th>checkin_at</th>\n",
       "      <th>On time</th>\n",
       "      <th>checkout_at</th>\n",
       "      <th>On time.1</th>\n",
       "      <th>performance_rating</th>\n",
       "      <th>payment_status</th>\n",
       "      <th>approval_status</th>\n",
       "      <th>payment_due</th>\n",
       "      <th>hours_worked</th>\n",
       "      <th>bonus</th>\n",
       "    </tr>\n",
       "  </thead>\n",
       "  <tbody>\n",
       "    <tr>\n",
       "      <th>0</th>\n",
       "      <td>58890</td>\n",
       "      <td>6c2978aa</td>\n",
       "      <td>Product Tester</td>\n",
       "      <td>Completed</td>\n",
       "      <td>Product Tester (Dallas)</td>\n",
       "      <td>3/25/21 20:00</td>\n",
       "      <td>3/25/21 21:30</td>\n",
       "      <td>1.5</td>\n",
       "      <td>20</td>\n",
       "      <td>3/19/21 22:51</td>\n",
       "      <td>...</td>\n",
       "      <td>3/25/21 20:13</td>\n",
       "      <td>NaN</td>\n",
       "      <td>3/25/21 22:17</td>\n",
       "      <td>NaN</td>\n",
       "      <td>1.0</td>\n",
       "      <td>paid</td>\n",
       "      <td>approved</td>\n",
       "      <td>41.4</td>\n",
       "      <td>2.06</td>\n",
       "      <td>100.0</td>\n",
       "    </tr>\n",
       "    <tr>\n",
       "      <th>2</th>\n",
       "      <td>25104</td>\n",
       "      <td>8f06633b</td>\n",
       "      <td>Product Tester</td>\n",
       "      <td>Completed</td>\n",
       "      <td>Product Tester (Dallas)</td>\n",
       "      <td>3/24/21 14:00</td>\n",
       "      <td>3/24/21 15:30</td>\n",
       "      <td>1.5</td>\n",
       "      <td>20</td>\n",
       "      <td>3/18/21 15:08</td>\n",
       "      <td>...</td>\n",
       "      <td>3/24/21 13:53</td>\n",
       "      <td>NaN</td>\n",
       "      <td>3/24/21 16:02</td>\n",
       "      <td>NaN</td>\n",
       "      <td>1.0</td>\n",
       "      <td>paid</td>\n",
       "      <td>approved</td>\n",
       "      <td>40.0</td>\n",
       "      <td>2.15</td>\n",
       "      <td>50.0</td>\n",
       "    </tr>\n",
       "    <tr>\n",
       "      <th>29</th>\n",
       "      <td>43733</td>\n",
       "      <td>f1a36c39</td>\n",
       "      <td>Product Tester</td>\n",
       "      <td>Completed</td>\n",
       "      <td>Product Tester (Dallas)</td>\n",
       "      <td>3/23/21 20:00</td>\n",
       "      <td>3/23/21 21:30</td>\n",
       "      <td>1.5</td>\n",
       "      <td>20</td>\n",
       "      <td>3/19/21 23:51</td>\n",
       "      <td>...</td>\n",
       "      <td>3/23/21 19:46</td>\n",
       "      <td>NaN</td>\n",
       "      <td>3/23/21 21:22</td>\n",
       "      <td>NaN</td>\n",
       "      <td>1.0</td>\n",
       "      <td>paid</td>\n",
       "      <td>approved</td>\n",
       "      <td>74.6</td>\n",
       "      <td>1.60</td>\n",
       "      <td>NaN</td>\n",
       "    </tr>\n",
       "    <tr>\n",
       "      <th>51</th>\n",
       "      <td>8864</td>\n",
       "      <td>2ad050b2</td>\n",
       "      <td>Product Tester</td>\n",
       "      <td>Completed</td>\n",
       "      <td>Product Tester (Dallas)</td>\n",
       "      <td>3/26/21 14:00</td>\n",
       "      <td>3/26/21 15:30</td>\n",
       "      <td>1.5</td>\n",
       "      <td>20</td>\n",
       "      <td>3/24/21 20:23</td>\n",
       "      <td>...</td>\n",
       "      <td>3/26/21 13:45</td>\n",
       "      <td>NaN</td>\n",
       "      <td>3/26/21 14:53</td>\n",
       "      <td>NaN</td>\n",
       "      <td>2.0</td>\n",
       "      <td>paid</td>\n",
       "      <td>approved</td>\n",
       "      <td>21.6</td>\n",
       "      <td>1.13</td>\n",
       "      <td>100.0</td>\n",
       "    </tr>\n",
       "    <tr>\n",
       "      <th>100</th>\n",
       "      <td>68979</td>\n",
       "      <td>f65a4bbd</td>\n",
       "      <td>Product Tester</td>\n",
       "      <td>Completed</td>\n",
       "      <td>Product Tester (Dallas)</td>\n",
       "      <td>3/17/21 15:30</td>\n",
       "      <td>3/17/21 16:30</td>\n",
       "      <td>1.0</td>\n",
       "      <td>20</td>\n",
       "      <td>3/12/21 19:20</td>\n",
       "      <td>...</td>\n",
       "      <td>3/17/21 15:43</td>\n",
       "      <td>NaN</td>\n",
       "      <td>3/17/21 17:16</td>\n",
       "      <td>NaN</td>\n",
       "      <td>2.0</td>\n",
       "      <td>paid</td>\n",
       "      <td>approved</td>\n",
       "      <td>81.0</td>\n",
       "      <td>1.56</td>\n",
       "      <td>NaN</td>\n",
       "    </tr>\n",
       "  </tbody>\n",
       "</table>\n",
       "<p>5 rows × 28 columns</p>\n",
       "</div>"
      ],
      "text/plain": [
       "        id    worker         project     status                    title  \\\n",
       "0    58890  6c2978aa  Product Tester  Completed  Product Tester (Dallas)   \n",
       "2    25104  8f06633b  Product Tester  Completed  Product Tester (Dallas)   \n",
       "29   43733  f1a36c39  Product Tester  Completed  Product Tester (Dallas)   \n",
       "51    8864  2ad050b2  Product Tester  Completed  Product Tester (Dallas)   \n",
       "100  68979  f65a4bbd  Product Tester  Completed  Product Tester (Dallas)   \n",
       "\n",
       "             start            end  duration  rate     created_at  ...  \\\n",
       "0    3/25/21 20:00  3/25/21 21:30       1.5    20  3/19/21 22:51  ...   \n",
       "2    3/24/21 14:00  3/24/21 15:30       1.5    20  3/18/21 15:08  ...   \n",
       "29   3/23/21 20:00  3/23/21 21:30       1.5    20  3/19/21 23:51  ...   \n",
       "51   3/26/21 14:00  3/26/21 15:30       1.5    20  3/24/21 20:23  ...   \n",
       "100  3/17/21 15:30  3/17/21 16:30       1.0    20  3/12/21 19:20  ...   \n",
       "\n",
       "        checkin_at On time    checkout_at On time.1 performance_rating  \\\n",
       "0    3/25/21 20:13     NaN  3/25/21 22:17       NaN                1.0   \n",
       "2    3/24/21 13:53     NaN  3/24/21 16:02       NaN                1.0   \n",
       "29   3/23/21 19:46     NaN  3/23/21 21:22       NaN                1.0   \n",
       "51   3/26/21 13:45     NaN  3/26/21 14:53       NaN                2.0   \n",
       "100  3/17/21 15:43     NaN  3/17/21 17:16       NaN                2.0   \n",
       "\n",
       "    payment_status approval_status payment_due hours_worked  bonus  \n",
       "0             paid        approved        41.4         2.06  100.0  \n",
       "2             paid        approved        40.0         2.15   50.0  \n",
       "29            paid        approved        74.6         1.60    NaN  \n",
       "51            paid        approved        21.6         1.13  100.0  \n",
       "100           paid        approved        81.0         1.56    NaN  \n",
       "\n",
       "[5 rows x 28 columns]"
      ]
     },
     "execution_count": 19,
     "metadata": {},
     "output_type": "execute_result"
    }
   ],
   "source": [
    "product_tester = df.loc[df['project']== 'Product Tester', :]\n",
    "product_tester.head()"
   ]
  },
  {
   "cell_type": "code",
   "execution_count": 20,
   "metadata": {},
   "outputs": [
    {
     "name": "stdout",
     "output_type": "stream",
     "text": [
      "<class 'pandas.core.frame.DataFrame'>\n",
      "Int64Index: 19504 entries, 0 to 75436\n",
      "Data columns (total 28 columns):\n",
      " #   Column              Non-Null Count  Dtype  \n",
      "---  ------              --------------  -----  \n",
      " 0   id                  19504 non-null  int64  \n",
      " 1   worker              19504 non-null  object \n",
      " 2   project             19504 non-null  object \n",
      " 3   status              19504 non-null  object \n",
      " 4   title               19504 non-null  object \n",
      " 5   start               19504 non-null  object \n",
      " 6   end                 19504 non-null  object \n",
      " 7   duration            19504 non-null  float64\n",
      " 8   rate                19504 non-null  int64  \n",
      " 9   created_at          19504 non-null  object \n",
      " 10  sent_at             19445 non-null  object \n",
      " 11  seen_at             8781 non-null   object \n",
      " 12  assigned_at         548 non-null    object \n",
      " 13  canceled_at         351 non-null    object \n",
      " 14  confirmed_at        332 non-null    object \n",
      " 15  confirmedby         0 non-null      object \n",
      " 16  canceled_by         274 non-null    object \n",
      " 17  confirmed_by        154 non-null    object \n",
      " 18  checkin_at          221 non-null    object \n",
      " 19  On time             0 non-null      float64\n",
      " 20  checkout_at         213 non-null    object \n",
      " 21  On time.1           0 non-null      float64\n",
      " 22  performance_rating  221 non-null    float64\n",
      " 23  payment_status      209 non-null    object \n",
      " 24  approval_status     277 non-null    object \n",
      " 25  payment_due         19504 non-null  float64\n",
      " 26  hours_worked        213 non-null    float64\n",
      " 27  bonus               11881 non-null  float64\n",
      "dtypes: float64(7), int64(2), object(19)\n",
      "memory usage: 4.3+ MB\n"
     ]
    }
   ],
   "source": [
    "product_tester.info()"
   ]
  },
  {
   "cell_type": "code",
   "execution_count": 34,
   "metadata": {},
   "outputs": [
    {
     "data": {
      "text/html": [
       "<div>\n",
       "<style scoped>\n",
       "    .dataframe tbody tr th:only-of-type {\n",
       "        vertical-align: middle;\n",
       "    }\n",
       "\n",
       "    .dataframe tbody tr th {\n",
       "        vertical-align: top;\n",
       "    }\n",
       "\n",
       "    .dataframe thead th {\n",
       "        text-align: right;\n",
       "    }\n",
       "</style>\n",
       "<table border=\"1\" class=\"dataframe\">\n",
       "  <thead>\n",
       "    <tr style=\"text-align: right;\">\n",
       "      <th></th>\n",
       "      <th>id</th>\n",
       "      <th>worker</th>\n",
       "      <th>project</th>\n",
       "      <th>status</th>\n",
       "      <th>title</th>\n",
       "      <th>start</th>\n",
       "      <th>end</th>\n",
       "      <th>duration</th>\n",
       "      <th>rate</th>\n",
       "      <th>created_at</th>\n",
       "      <th>...</th>\n",
       "      <th>checkin_at</th>\n",
       "      <th>On time</th>\n",
       "      <th>checkout_at</th>\n",
       "      <th>On time.1</th>\n",
       "      <th>performance_rating</th>\n",
       "      <th>payment_status</th>\n",
       "      <th>approval_status</th>\n",
       "      <th>payment_due</th>\n",
       "      <th>hours_worked</th>\n",
       "      <th>bonus</th>\n",
       "    </tr>\n",
       "  </thead>\n",
       "  <tbody>\n",
       "    <tr>\n",
       "      <th>1</th>\n",
       "      <td>8769</td>\n",
       "      <td>016c3ad6</td>\n",
       "      <td>Local Courier</td>\n",
       "      <td>Completed</td>\n",
       "      <td>Local Courier (Dallas)</td>\n",
       "      <td>3/26/21 14:25</td>\n",
       "      <td>3/26/21 17:00</td>\n",
       "      <td>2.5</td>\n",
       "      <td>12</td>\n",
       "      <td>3/26/21 14:19</td>\n",
       "      <td>...</td>\n",
       "      <td>3/26/21 16:37</td>\n",
       "      <td>NaN</td>\n",
       "      <td>3/26/21 18:30</td>\n",
       "      <td>NaN</td>\n",
       "      <td>1.0</td>\n",
       "      <td>paid</td>\n",
       "      <td>approved</td>\n",
       "      <td>30.00</td>\n",
       "      <td>1.88</td>\n",
       "      <td>50.0</td>\n",
       "    </tr>\n",
       "    <tr>\n",
       "      <th>3</th>\n",
       "      <td>47791</td>\n",
       "      <td>b68f79f8</td>\n",
       "      <td>Local Courier</td>\n",
       "      <td>Completed</td>\n",
       "      <td>Local Courier (Sacremento)</td>\n",
       "      <td>3/23/21 22:10</td>\n",
       "      <td>3/24/21 1:10</td>\n",
       "      <td>3.0</td>\n",
       "      <td>17</td>\n",
       "      <td>3/23/21 22:08</td>\n",
       "      <td>...</td>\n",
       "      <td>3/23/21 22:09</td>\n",
       "      <td>NaN</td>\n",
       "      <td>3/24/21 4:14</td>\n",
       "      <td>NaN</td>\n",
       "      <td>1.0</td>\n",
       "      <td>paid</td>\n",
       "      <td>approved</td>\n",
       "      <td>51.00</td>\n",
       "      <td>6.09</td>\n",
       "      <td>50.0</td>\n",
       "    </tr>\n",
       "    <tr>\n",
       "      <th>4</th>\n",
       "      <td>32056</td>\n",
       "      <td>ddcb2032</td>\n",
       "      <td>Local Courier</td>\n",
       "      <td>Completed</td>\n",
       "      <td>Local Courier (SF)</td>\n",
       "      <td>3/17/21 19:45</td>\n",
       "      <td>3/17/21 22:45</td>\n",
       "      <td>3.0</td>\n",
       "      <td>19</td>\n",
       "      <td>3/17/21 19:50</td>\n",
       "      <td>...</td>\n",
       "      <td>3/17/21 19:00</td>\n",
       "      <td>NaN</td>\n",
       "      <td>3/17/21 23:00</td>\n",
       "      <td>NaN</td>\n",
       "      <td>1.0</td>\n",
       "      <td>paid</td>\n",
       "      <td>approved</td>\n",
       "      <td>65.17</td>\n",
       "      <td>3.99</td>\n",
       "      <td>20.0</td>\n",
       "    </tr>\n",
       "    <tr>\n",
       "      <th>6</th>\n",
       "      <td>2591</td>\n",
       "      <td>61c68bee</td>\n",
       "      <td>Local Courier</td>\n",
       "      <td>Completed</td>\n",
       "      <td>Local Courier (SF)</td>\n",
       "      <td>3/23/21 21:00</td>\n",
       "      <td>3/24/21 1:00</td>\n",
       "      <td>4.0</td>\n",
       "      <td>19</td>\n",
       "      <td>3/19/21 21:14</td>\n",
       "      <td>...</td>\n",
       "      <td>3/23/21 21:00</td>\n",
       "      <td>NaN</td>\n",
       "      <td>3/24/21 2:07</td>\n",
       "      <td>NaN</td>\n",
       "      <td>1.0</td>\n",
       "      <td>paid</td>\n",
       "      <td>approved</td>\n",
       "      <td>88.54</td>\n",
       "      <td>5.11</td>\n",
       "      <td>NaN</td>\n",
       "    </tr>\n",
       "    <tr>\n",
       "      <th>7</th>\n",
       "      <td>6463</td>\n",
       "      <td>aa5605db</td>\n",
       "      <td>Local Courier</td>\n",
       "      <td>Completed</td>\n",
       "      <td>Local Courier (Sacremento)</td>\n",
       "      <td>3/8/21 1:00</td>\n",
       "      <td>3/8/21 5:00</td>\n",
       "      <td>4.0</td>\n",
       "      <td>17</td>\n",
       "      <td>3/7/21 23:21</td>\n",
       "      <td>...</td>\n",
       "      <td>3/8/21 0:58</td>\n",
       "      <td>NaN</td>\n",
       "      <td>3/8/21 5:00</td>\n",
       "      <td>NaN</td>\n",
       "      <td>1.0</td>\n",
       "      <td>paid</td>\n",
       "      <td>approved</td>\n",
       "      <td>72.76</td>\n",
       "      <td>4.04</td>\n",
       "      <td>NaN</td>\n",
       "    </tr>\n",
       "  </tbody>\n",
       "</table>\n",
       "<p>5 rows × 28 columns</p>\n",
       "</div>"
      ],
      "text/plain": [
       "      id    worker        project     status                       title  \\\n",
       "1   8769  016c3ad6  Local Courier  Completed      Local Courier (Dallas)   \n",
       "3  47791  b68f79f8  Local Courier  Completed  Local Courier (Sacremento)   \n",
       "4  32056  ddcb2032  Local Courier  Completed          Local Courier (SF)   \n",
       "6   2591  61c68bee  Local Courier  Completed          Local Courier (SF)   \n",
       "7   6463  aa5605db  Local Courier  Completed  Local Courier (Sacremento)   \n",
       "\n",
       "           start            end  duration  rate     created_at  ...  \\\n",
       "1  3/26/21 14:25  3/26/21 17:00       2.5    12  3/26/21 14:19  ...   \n",
       "3  3/23/21 22:10   3/24/21 1:10       3.0    17  3/23/21 22:08  ...   \n",
       "4  3/17/21 19:45  3/17/21 22:45       3.0    19  3/17/21 19:50  ...   \n",
       "6  3/23/21 21:00   3/24/21 1:00       4.0    19  3/19/21 21:14  ...   \n",
       "7    3/8/21 1:00    3/8/21 5:00       4.0    17   3/7/21 23:21  ...   \n",
       "\n",
       "      checkin_at On time    checkout_at On time.1 performance_rating  \\\n",
       "1  3/26/21 16:37     NaN  3/26/21 18:30       NaN                1.0   \n",
       "3  3/23/21 22:09     NaN   3/24/21 4:14       NaN                1.0   \n",
       "4  3/17/21 19:00     NaN  3/17/21 23:00       NaN                1.0   \n",
       "6  3/23/21 21:00     NaN   3/24/21 2:07       NaN                1.0   \n",
       "7    3/8/21 0:58     NaN    3/8/21 5:00       NaN                1.0   \n",
       "\n",
       "  payment_status approval_status payment_due hours_worked  bonus  \n",
       "1           paid        approved       30.00         1.88   50.0  \n",
       "3           paid        approved       51.00         6.09   50.0  \n",
       "4           paid        approved       65.17         3.99   20.0  \n",
       "6           paid        approved       88.54         5.11    NaN  \n",
       "7           paid        approved       72.76         4.04    NaN  \n",
       "\n",
       "[5 rows x 28 columns]"
      ]
     },
     "execution_count": 34,
     "metadata": {},
     "output_type": "execute_result"
    }
   ],
   "source": [
    "local_courier = df.loc[df['project']== 'Local Courier', :]\n",
    "local_courier.head()"
   ]
  },
  {
   "cell_type": "code",
   "execution_count": 35,
   "metadata": {},
   "outputs": [
    {
     "name": "stdout",
     "output_type": "stream",
     "text": [
      "<class 'pandas.core.frame.DataFrame'>\n",
      "Int64Index: 36985 entries, 1 to 74926\n",
      "Data columns (total 28 columns):\n",
      " #   Column              Non-Null Count  Dtype  \n",
      "---  ------              --------------  -----  \n",
      " 0   id                  36985 non-null  int64  \n",
      " 1   worker              36985 non-null  object \n",
      " 2   project             36985 non-null  object \n",
      " 3   status              36985 non-null  object \n",
      " 4   title               36985 non-null  object \n",
      " 5   start               36985 non-null  object \n",
      " 6   end                 36985 non-null  object \n",
      " 7   duration            36985 non-null  float64\n",
      " 8   rate                36985 non-null  int64  \n",
      " 9   created_at          36985 non-null  object \n",
      " 10  sent_at             36621 non-null  object \n",
      " 11  seen_at             11940 non-null  object \n",
      " 12  assigned_at         2985 non-null   object \n",
      " 13  canceled_at         3012 non-null   object \n",
      " 14  confirmed_at        1875 non-null   object \n",
      " 15  confirmedby         0 non-null      object \n",
      " 16  canceled_by         2919 non-null   object \n",
      " 17  confirmed_by        35 non-null     object \n",
      " 18  checkin_at          2090 non-null   object \n",
      " 19  On time             0 non-null      float64\n",
      " 20  checkout_at         2023 non-null   object \n",
      " 21  On time.1           0 non-null      float64\n",
      " 22  performance_rating  2090 non-null   float64\n",
      " 23  payment_status      1942 non-null   object \n",
      " 24  approval_status     2109 non-null   object \n",
      " 25  payment_due         36985 non-null  float64\n",
      " 26  hours_worked        2023 non-null   float64\n",
      " 27  bonus               13464 non-null  float64\n",
      "dtypes: float64(7), int64(2), object(19)\n",
      "memory usage: 8.2+ MB\n"
     ]
    }
   ],
   "source": [
    "local_courier.info()"
   ]
  },
  {
   "cell_type": "code",
   "execution_count": 30,
   "metadata": {},
   "outputs": [
    {
     "data": {
      "text/html": [
       "<div>\n",
       "<style scoped>\n",
       "    .dataframe tbody tr th:only-of-type {\n",
       "        vertical-align: middle;\n",
       "    }\n",
       "\n",
       "    .dataframe tbody tr th {\n",
       "        vertical-align: top;\n",
       "    }\n",
       "\n",
       "    .dataframe thead th {\n",
       "        text-align: right;\n",
       "    }\n",
       "</style>\n",
       "<table border=\"1\" class=\"dataframe\">\n",
       "  <thead>\n",
       "    <tr style=\"text-align: right;\">\n",
       "      <th></th>\n",
       "      <th>id</th>\n",
       "      <th>worker</th>\n",
       "      <th>project</th>\n",
       "      <th>status</th>\n",
       "      <th>title</th>\n",
       "      <th>start</th>\n",
       "      <th>end</th>\n",
       "      <th>duration</th>\n",
       "      <th>rate</th>\n",
       "      <th>created_at</th>\n",
       "      <th>...</th>\n",
       "      <th>checkin_at</th>\n",
       "      <th>On time</th>\n",
       "      <th>checkout_at</th>\n",
       "      <th>On time.1</th>\n",
       "      <th>performance_rating</th>\n",
       "      <th>payment_status</th>\n",
       "      <th>approval_status</th>\n",
       "      <th>payment_due</th>\n",
       "      <th>hours_worked</th>\n",
       "      <th>bonus</th>\n",
       "    </tr>\n",
       "  </thead>\n",
       "  <tbody>\n",
       "    <tr>\n",
       "      <th>5</th>\n",
       "      <td>24</td>\n",
       "      <td>b32a35f8</td>\n",
       "      <td>Customer Service (Remote)</td>\n",
       "      <td>Completed</td>\n",
       "      <td>Guest Care Agent (Remote)</td>\n",
       "      <td>3/15/21 14:00</td>\n",
       "      <td>3/15/21 16:00</td>\n",
       "      <td>2.0</td>\n",
       "      <td>10</td>\n",
       "      <td>3/12/21 23:59</td>\n",
       "      <td>...</td>\n",
       "      <td>3/15/21 14:11</td>\n",
       "      <td>NaN</td>\n",
       "      <td>3/15/21 16:11</td>\n",
       "      <td>NaN</td>\n",
       "      <td>1.0</td>\n",
       "      <td>paid</td>\n",
       "      <td>approved</td>\n",
       "      <td>10.6</td>\n",
       "      <td>2.00</td>\n",
       "      <td>NaN</td>\n",
       "    </tr>\n",
       "    <tr>\n",
       "      <th>10</th>\n",
       "      <td>10953</td>\n",
       "      <td>9eb9b28c</td>\n",
       "      <td>Customer Service (Remote)</td>\n",
       "      <td>Completed</td>\n",
       "      <td>Guest Care Agent (Remote)</td>\n",
       "      <td>2/1/21 19:00</td>\n",
       "      <td>2/1/21 22:00</td>\n",
       "      <td>3.0</td>\n",
       "      <td>10</td>\n",
       "      <td>2/1/21 0:34</td>\n",
       "      <td>...</td>\n",
       "      <td>2/1/21 19:01</td>\n",
       "      <td>NaN</td>\n",
       "      <td>2/1/21 22:02</td>\n",
       "      <td>NaN</td>\n",
       "      <td>1.0</td>\n",
       "      <td>NaN</td>\n",
       "      <td>rejected</td>\n",
       "      <td>30.0</td>\n",
       "      <td>3.01</td>\n",
       "      <td>NaN</td>\n",
       "    </tr>\n",
       "    <tr>\n",
       "      <th>12</th>\n",
       "      <td>15015</td>\n",
       "      <td>e4003d13</td>\n",
       "      <td>Customer Service (Remote)</td>\n",
       "      <td>Completed</td>\n",
       "      <td>Guest Care Agent (Remote)</td>\n",
       "      <td>2/9/21 15:00</td>\n",
       "      <td>2/9/21 19:00</td>\n",
       "      <td>4.0</td>\n",
       "      <td>10</td>\n",
       "      <td>2/6/21 14:17</td>\n",
       "      <td>...</td>\n",
       "      <td>2/9/21 14:56</td>\n",
       "      <td>NaN</td>\n",
       "      <td>2/9/21 19:23</td>\n",
       "      <td>NaN</td>\n",
       "      <td>1.0</td>\n",
       "      <td>paid</td>\n",
       "      <td>approved</td>\n",
       "      <td>37.7</td>\n",
       "      <td>4.45</td>\n",
       "      <td>NaN</td>\n",
       "    </tr>\n",
       "    <tr>\n",
       "      <th>13</th>\n",
       "      <td>15049</td>\n",
       "      <td>15594ebd</td>\n",
       "      <td>Customer Service (Remote)</td>\n",
       "      <td>Completed</td>\n",
       "      <td>Guest Care Agent (Remote)</td>\n",
       "      <td>3/3/21 19:00</td>\n",
       "      <td>3/3/21 21:00</td>\n",
       "      <td>2.0</td>\n",
       "      <td>10</td>\n",
       "      <td>3/3/21 11:25</td>\n",
       "      <td>...</td>\n",
       "      <td>3/3/21 19:08</td>\n",
       "      <td>NaN</td>\n",
       "      <td>3/3/21 21:11</td>\n",
       "      <td>NaN</td>\n",
       "      <td>1.0</td>\n",
       "      <td>paid</td>\n",
       "      <td>approved</td>\n",
       "      <td>34.5</td>\n",
       "      <td>2.04</td>\n",
       "      <td>NaN</td>\n",
       "    </tr>\n",
       "    <tr>\n",
       "      <th>16</th>\n",
       "      <td>20049</td>\n",
       "      <td>4fc88d97</td>\n",
       "      <td>Customer Service (Remote)</td>\n",
       "      <td>Completed</td>\n",
       "      <td>Guest Care Agent (Remote)</td>\n",
       "      <td>1/1/21 19:00</td>\n",
       "      <td>1/1/21 22:00</td>\n",
       "      <td>3.0</td>\n",
       "      <td>10</td>\n",
       "      <td>12/29/20 18:32</td>\n",
       "      <td>...</td>\n",
       "      <td>1/1/21 18:48</td>\n",
       "      <td>NaN</td>\n",
       "      <td>1/1/21 22:09</td>\n",
       "      <td>NaN</td>\n",
       "      <td>1.0</td>\n",
       "      <td>paid</td>\n",
       "      <td>approved</td>\n",
       "      <td>29.1</td>\n",
       "      <td>3.35</td>\n",
       "      <td>NaN</td>\n",
       "    </tr>\n",
       "  </tbody>\n",
       "</table>\n",
       "<p>5 rows × 28 columns</p>\n",
       "</div>"
      ],
      "text/plain": [
       "       id    worker                    project     status  \\\n",
       "5      24  b32a35f8  Customer Service (Remote)  Completed   \n",
       "10  10953  9eb9b28c  Customer Service (Remote)  Completed   \n",
       "12  15015  e4003d13  Customer Service (Remote)  Completed   \n",
       "13  15049  15594ebd  Customer Service (Remote)  Completed   \n",
       "16  20049  4fc88d97  Customer Service (Remote)  Completed   \n",
       "\n",
       "                        title          start            end  duration  rate  \\\n",
       "5   Guest Care Agent (Remote)  3/15/21 14:00  3/15/21 16:00       2.0    10   \n",
       "10  Guest Care Agent (Remote)   2/1/21 19:00   2/1/21 22:00       3.0    10   \n",
       "12  Guest Care Agent (Remote)   2/9/21 15:00   2/9/21 19:00       4.0    10   \n",
       "13  Guest Care Agent (Remote)   3/3/21 19:00   3/3/21 21:00       2.0    10   \n",
       "16  Guest Care Agent (Remote)   1/1/21 19:00   1/1/21 22:00       3.0    10   \n",
       "\n",
       "        created_at  ...     checkin_at On time    checkout_at On time.1  \\\n",
       "5    3/12/21 23:59  ...  3/15/21 14:11     NaN  3/15/21 16:11       NaN   \n",
       "10     2/1/21 0:34  ...   2/1/21 19:01     NaN   2/1/21 22:02       NaN   \n",
       "12    2/6/21 14:17  ...   2/9/21 14:56     NaN   2/9/21 19:23       NaN   \n",
       "13    3/3/21 11:25  ...   3/3/21 19:08     NaN   3/3/21 21:11       NaN   \n",
       "16  12/29/20 18:32  ...   1/1/21 18:48     NaN   1/1/21 22:09       NaN   \n",
       "\n",
       "   performance_rating payment_status approval_status payment_due hours_worked  \\\n",
       "5                 1.0           paid        approved        10.6         2.00   \n",
       "10                1.0            NaN        rejected        30.0         3.01   \n",
       "12                1.0           paid        approved        37.7         4.45   \n",
       "13                1.0           paid        approved        34.5         2.04   \n",
       "16                1.0           paid        approved        29.1         3.35   \n",
       "\n",
       "    bonus  \n",
       "5     NaN  \n",
       "10    NaN  \n",
       "12    NaN  \n",
       "13    NaN  \n",
       "16    NaN  \n",
       "\n",
       "[5 rows x 28 columns]"
      ]
     },
     "execution_count": 30,
     "metadata": {},
     "output_type": "execute_result"
    }
   ],
   "source": [
    "customer_service = df.loc[df['project']== 'Customer Service (Remote)', :]\n",
    "customer_service.head()"
   ]
  },
  {
   "cell_type": "code",
   "execution_count": 31,
   "metadata": {},
   "outputs": [
    {
     "name": "stdout",
     "output_type": "stream",
     "text": [
      "<class 'pandas.core.frame.DataFrame'>\n",
      "Int64Index: 18948 entries, 5 to 73402\n",
      "Data columns (total 28 columns):\n",
      " #   Column              Non-Null Count  Dtype  \n",
      "---  ------              --------------  -----  \n",
      " 0   id                  18948 non-null  int64  \n",
      " 1   worker              18948 non-null  object \n",
      " 2   project             18948 non-null  object \n",
      " 3   status              18948 non-null  object \n",
      " 4   title               18948 non-null  object \n",
      " 5   start               18948 non-null  object \n",
      " 6   end                 18948 non-null  object \n",
      " 7   duration            18948 non-null  float64\n",
      " 8   rate                18948 non-null  int64  \n",
      " 9   created_at          18948 non-null  object \n",
      " 10  sent_at             18865 non-null  object \n",
      " 11  seen_at             13081 non-null  object \n",
      " 12  assigned_at         4790 non-null   object \n",
      " 13  canceled_at         2075 non-null   object \n",
      " 14  confirmed_at        2340 non-null   object \n",
      " 15  confirmedby         1 non-null      object \n",
      " 16  canceled_by         1611 non-null   object \n",
      " 17  confirmed_by        46 non-null     object \n",
      " 18  checkin_at          3123 non-null   object \n",
      " 19  On time             0 non-null      float64\n",
      " 20  checkout_at         3077 non-null   object \n",
      " 21  On time.1           0 non-null      float64\n",
      " 22  performance_rating  3123 non-null   float64\n",
      " 23  payment_status      1576 non-null   object \n",
      " 24  approval_status     3168 non-null   object \n",
      " 25  payment_due         18948 non-null  float64\n",
      " 26  hours_worked        3077 non-null   float64\n",
      " 27  bonus               0 non-null      float64\n",
      "dtypes: float64(7), int64(2), object(19)\n",
      "memory usage: 4.2+ MB\n"
     ]
    }
   ],
   "source": [
    "customer_service.info()"
   ]
  },
  {
   "cell_type": "code",
   "execution_count": 36,
   "metadata": {},
   "outputs": [
    {
     "data": {
      "text/plain": [
       "50.60334928229665"
      ]
     },
     "execution_count": 36,
     "metadata": {},
     "output_type": "execute_result"
    }
   ],
   "source": [
    "local_courier.performance_rating.mean()"
   ]
  },
  {
   "cell_type": "code",
   "execution_count": 136,
   "metadata": {},
   "outputs": [
    {
     "data": {
      "text/plain": [
       "50.0"
      ]
     },
     "execution_count": 136,
     "metadata": {},
     "output_type": "execute_result"
    }
   ],
   "source": [
    "local_courier.performance_rating.median()"
   ]
  },
  {
   "cell_type": "code",
   "execution_count": 26,
   "metadata": {},
   "outputs": [
    {
     "data": {
      "text/plain": [
       "50.705882352941174"
      ]
     },
     "execution_count": 26,
     "metadata": {},
     "output_type": "execute_result"
    }
   ],
   "source": [
    "product_tester.performance_rating.mean()"
   ]
  },
  {
   "cell_type": "code",
   "execution_count": 38,
   "metadata": {},
   "outputs": [
    {
     "data": {
      "text/plain": [
       "48.0"
      ]
     },
     "execution_count": 38,
     "metadata": {},
     "output_type": "execute_result"
    }
   ],
   "source": [
    "product_tester.performance_rating.median()"
   ]
  },
  {
   "cell_type": "code",
   "execution_count": 32,
   "metadata": {},
   "outputs": [
    {
     "data": {
      "text/plain": [
       "49.834774255523534"
      ]
     },
     "execution_count": 32,
     "metadata": {},
     "output_type": "execute_result"
    }
   ],
   "source": [
    "customer_service.performance_rating.mean()"
   ]
  },
  {
   "cell_type": "code",
   "execution_count": 39,
   "metadata": {},
   "outputs": [
    {
     "data": {
      "text/plain": [
       "49.0"
      ]
     },
     "execution_count": 39,
     "metadata": {},
     "output_type": "execute_result"
    }
   ],
   "source": [
    "customer_service.performance_rating.median()"
   ]
  },
  {
   "cell_type": "code",
   "execution_count": 40,
   "metadata": {},
   "outputs": [
    {
     "name": "stdout",
     "output_type": "stream",
     "text": [
      "The percentage of total shifts that are customer service is 0.25117647838593793\n"
     ]
    }
   ],
   "source": [
    "print('The percentage of total shifts that are customer service is', 18948/75437)"
   ]
  },
  {
   "cell_type": "code",
   "execution_count": 41,
   "metadata": {},
   "outputs": [
    {
     "name": "stdout",
     "output_type": "stream",
     "text": [
      "The percentage of total shifts that are product testers is 0.2585468669220674\n"
     ]
    }
   ],
   "source": [
    "print('The percentage of total shifts that are product testers is', 19504/75437)"
   ]
  },
  {
   "cell_type": "code",
   "execution_count": 42,
   "metadata": {},
   "outputs": [
    {
     "name": "stdout",
     "output_type": "stream",
     "text": [
      "The percentage of total shifts that are local couriers is 0.49027665469199466\n"
     ]
    }
   ],
   "source": [
    "print('The percentage of total shifts that are local couriers is', 36985/75437)"
   ]
  },
  {
   "cell_type": "code",
   "execution_count": 43,
   "metadata": {},
   "outputs": [
    {
     "name": "stdout",
     "output_type": "stream",
     "text": [
      "-0.010755895677992804\n"
     ]
    }
   ],
   "source": [
    "print(df['duration'].corr(df['performance_rating']))"
   ]
  },
  {
   "cell_type": "code",
   "execution_count": 44,
   "metadata": {},
   "outputs": [
    {
     "name": "stdout",
     "output_type": "stream",
     "text": [
      "0.008470015915998552\n"
     ]
    }
   ],
   "source": [
    "print(df['rate'].corr(df['performance_rating']))"
   ]
  },
  {
   "cell_type": "code",
   "execution_count": 45,
   "metadata": {},
   "outputs": [
    {
     "data": {
      "text/plain": [
       "<AxesSubplot:>"
      ]
     },
     "execution_count": 45,
     "metadata": {},
     "output_type": "execute_result"
    },
    {
     "data": {
      "image/png": "[encoded data removed]",
      "text/plain": [
       "<Figure size 1080x1080 with 2 Axes>"
      ]
     },
     "metadata": {
      "needs_background": "light"
     },
     "output_type": "display_data"
    }
   ],
   "source": [
    "fig, ax = plt.subplots(figsize=(15,15))\n",
    "sns.heatmap(df.corr(), annot=True)"
   ]
  },
  {
   "cell_type": "code",
   "execution_count": 46,
   "metadata": {},
   "outputs": [
    {
     "data": {
      "text/plain": [
       "<AxesSubplot:>"
      ]
     },
     "execution_count": 46,
     "metadata": {},
     "output_type": "execute_result"
    },
    {
     "data": {
      "image/png": "[encoded data removed]",
      "text/plain": [
       "<Figure size 1080x1080 with 2 Axes>"
      ]
     },
     "metadata": {
      "needs_background": "light"
     },
     "output_type": "display_data"
    }
   ],
   "source": [
    "fig, ax = plt.subplots(figsize=(15,15))\n",
    "sns.heatmap(customer_service.corr(), annot=True)"
   ]
  },
  {
   "cell_type": "code",
   "execution_count": 48,
   "metadata": {},
   "outputs": [
    {
     "data": {
      "text/plain": [
       "<AxesSubplot:>"
      ]
     },
     "execution_count": 48,
     "metadata": {},
     "output_type": "execute_result"
    },
    {
     "data": {
      "image/png": "[encoded data removed]",
      "text/plain": [
       "<Figure size 1080x1080 with 2 Axes>"
      ]
     },
     "metadata": {
      "needs_background": "light"
     },
     "output_type": "display_data"
    }
   ],
   "source": [
    "fig, ax = plt.subplots(figsize=(15,15))\n",
    "sns.heatmap(local_courier.corr(), annot=True)"
   ]
  },
  {
   "cell_type": "code",
   "execution_count": 54,
   "metadata": {},
   "outputs": [
    {
     "name": "stdout",
     "output_type": "stream",
     "text": [
      "1696\n"
     ]
    }
   ],
   "source": [
    "n = len(pd.unique(df['worker']))\n",
    "print(n)"
   ]
  },
  {
   "cell_type": "code",
   "execution_count": 74,
   "metadata": {},
   "outputs": [
    {
     "name": "stdout",
     "output_type": "stream",
     "text": [
      "7.054893487280777\n"
     ]
    }
   ],
   "source": [
    "completed_total = len(df[df['status'] == 'Completed'])\n",
    "print((completed_total/75437)*100)"
   ]
  },
  {
   "cell_type": "code",
   "execution_count": 76,
   "metadata": {},
   "outputs": [
    {
     "name": "stdout",
     "output_type": "stream",
     "text": [
      "7.170221509338918\n"
     ]
    }
   ],
   "source": [
    "canceled_total = len(df[df['status'] == 'Canceled'])\n",
    "print((canceled_total/75437)*100)"
   ]
  },
  {
   "cell_type": "code",
   "execution_count": 78,
   "metadata": {},
   "outputs": [
    {
     "name": "stdout",
     "output_type": "stream",
     "text": [
      "0.3579145512149211\n"
     ]
    }
   ],
   "source": [
    "no_show_total = len(df[df['status'] == 'NoShow'])\n",
    "print((no_show_total/75437)*100)"
   ]
  },
  {
   "cell_type": "code",
   "execution_count": 80,
   "metadata": {},
   "outputs": [
    {
     "name": "stdout",
     "output_type": "stream",
     "text": [
      "0.003976828346832456\n"
     ]
    }
   ],
   "source": [
    "assigned_total = len(df[df['status'] == 'Assigned'])\n",
    "print((assigned_total/75437)*100)"
   ]
  },
  {
   "cell_type": "code",
   "execution_count": 81,
   "metadata": {},
   "outputs": [
    {
     "name": "stdout",
     "output_type": "stream",
     "text": [
      "37.52932910905789\n"
     ]
    }
   ],
   "source": [
    "expired_total = len(df[df['status'] == 'Expired'])\n",
    "print((expired_total/75437)*100)"
   ]
  },
  {
   "cell_type": "code",
   "execution_count": 82,
   "metadata": {},
   "outputs": [
    {
     "name": "stdout",
     "output_type": "stream",
     "text": [
      "0.7343876347150603\n"
     ]
    }
   ],
   "source": [
    "declined_total = len(df[df['status'] == 'Declined'])\n",
    "print((declined_total/75437)*100)"
   ]
  },
  {
   "cell_type": "code",
   "execution_count": 83,
   "metadata": {},
   "outputs": [
    {
     "name": "stdout",
     "output_type": "stream",
     "text": [
      "47.11215981547517\n"
     ]
    }
   ],
   "source": [
    "filled_total = len(df[df['status'] == 'Filled'])\n",
    "print((filled_total/75437)*100)"
   ]
  },
  {
   "cell_type": "code",
   "execution_count": 84,
   "metadata": {},
   "outputs": [
    {
     "name": "stdout",
     "output_type": "stream",
     "text": [
      "0.03446584567254796\n"
     ]
    }
   ],
   "source": [
    "sent_total = len(df[df['status'] == 'Sent'])\n",
    "print((sent_total/75437)*100)"
   ]
  },
  {
   "cell_type": "code",
   "execution_count": 72,
   "metadata": {},
   "outputs": [
    {
     "name": "stdout",
     "output_type": "stream",
     "text": [
      "2\n"
     ]
    }
   ],
   "source": [
    "oversubscribed_total = len(df[df['status'] == 'Oversubscribed'])\n",
    "print(oversubscribed_total)"
   ]
  },
  {
   "cell_type": "code",
   "execution_count": 64,
   "metadata": {},
   "outputs": [
    {
     "data": {
      "text/plain": [
       "array(['Completed', 'Canceled', 'NoShow', 'Assigned', 'Expired',\n",
       "       'Declined', 'Filled', 'Sent', 'Oversubscribed'], dtype=object)"
      ]
     },
     "execution_count": 64,
     "metadata": {},
     "output_type": "execute_result"
    }
   ],
   "source": [
    "df['status'].unique()"
   ]
  },
  {
   "cell_type": "code",
   "execution_count": 90,
   "metadata": {},
   "outputs": [
    {
     "name": "stdout",
     "output_type": "stream",
     "text": [
      "8.097877517912668\n"
     ]
    }
   ],
   "source": [
    "canceled_total_lc = len(local_courier[local_courier['status'] == 'Canceled'])\n",
    "print((canceled_total_lc/36985)*100)"
   ]
  },
  {
   "cell_type": "code",
   "execution_count": 91,
   "metadata": {},
   "outputs": [
    {
     "name": "stdout",
     "output_type": "stream",
     "text": [
      "26.521562795728\n"
     ]
    }
   ],
   "source": [
    "expired_total_lc = len(local_courier[local_courier['status'] == 'Expired'])\n",
    "print((expired_total_lc/36985)*100)"
   ]
  },
  {
   "cell_type": "code",
   "execution_count": 92,
   "metadata": {},
   "outputs": [
    {
     "name": "stdout",
     "output_type": "stream",
     "text": [
      "5.372448289847235\n"
     ]
    }
   ],
   "source": [
    "completed_total_lc = len(local_courier[local_courier['status'] == 'Completed'])\n",
    "print((completed_total_lc/36985)*100)"
   ]
  },
  {
   "cell_type": "code",
   "execution_count": 93,
   "metadata": {},
   "outputs": [
    {
     "name": "stdout",
     "output_type": "stream",
     "text": [
      "0.346086251182912\n"
     ]
    }
   ],
   "source": [
    "noshow_total_lc = len(local_courier[local_courier['status'] == 'NoShow'])\n",
    "print((noshow_total_lc/36985)*100)"
   ]
  },
  {
   "cell_type": "code",
   "execution_count": 94,
   "metadata": {},
   "outputs": [
    {
     "name": "stdout",
     "output_type": "stream",
     "text": [
      "0.903068811680411\n"
     ]
    }
   ],
   "source": [
    "declined_total_lc = len(local_courier[local_courier['status'] == 'Declined'])\n",
    "print((declined_total_lc/36985)*100)"
   ]
  },
  {
   "cell_type": "code",
   "execution_count": 96,
   "metadata": {},
   "outputs": [
    {
     "name": "stdout",
     "output_type": "stream",
     "text": [
      "26.521562795728\n"
     ]
    }
   ],
   "source": [
    "expired_total_lc = len(local_courier[local_courier['status'] == 'Expired'])\n",
    "print((expired_total_lc/36985)*100)"
   ]
  },
  {
   "cell_type": "code",
   "execution_count": 97,
   "metadata": {},
   "outputs": [
    {
     "name": "stdout",
     "output_type": "stream",
     "text": [
      "58.75354873597405\n"
     ]
    }
   ],
   "source": [
    "filled_total_lc = len(local_courier[local_courier['status'] == 'Filled'])\n",
    "print((filled_total_lc/36985)*100)"
   ]
  },
  {
   "cell_type": "code",
   "execution_count": 98,
   "metadata": {},
   "outputs": [
    {
     "name": "stdout",
     "output_type": "stream",
     "text": [
      "0.0\n"
     ]
    }
   ],
   "source": [
    "sent_total_lc = len(local_courier[local_courier['status'] == 'Sent'])\n",
    "print((sent_total_lc/36985)*100)"
   ]
  },
  {
   "cell_type": "code",
   "execution_count": null,
   "metadata": {},
   "outputs": [],
   "source": [
    "local_courier['duration']"
   ]
  },
  {
   "cell_type": "code",
   "execution_count": 99,
   "metadata": {},
   "outputs": [
    {
     "name": "stdout",
     "output_type": "stream",
     "text": [
      "10.898247836183238\n"
     ]
    }
   ],
   "source": [
    "canceled_total_cs = len(customer_service[customer_service['status'] == 'Canceled'])\n",
    "print((canceled_total_cs/18948)*100)"
   ]
  },
  {
   "cell_type": "code",
   "execution_count": 100,
   "metadata": {},
   "outputs": [
    {
     "name": "stdout",
     "output_type": "stream",
     "text": [
      "42.5110829639012\n"
     ]
    }
   ],
   "source": [
    "expired_total_cs = len(customer_service[customer_service['status'] == 'Expired'])\n",
    "print((expired_total_cs/18948)*100)"
   ]
  },
  {
   "cell_type": "code",
   "execution_count": 101,
   "metadata": {},
   "outputs": [
    {
     "name": "stdout",
     "output_type": "stream",
     "text": [
      "16.476672999788896\n"
     ]
    }
   ],
   "source": [
    "completed_total_cs = len(customer_service[customer_service['status'] == 'Completed'])\n",
    "print((completed_total_cs/18948)*100)"
   ]
  },
  {
   "cell_type": "code",
   "execution_count": 102,
   "metadata": {},
   "outputs": [
    {
     "name": "stdout",
     "output_type": "stream",
     "text": [
      "0.41165294490183657\n"
     ]
    }
   ],
   "source": [
    "noshow_total_cs = len(customer_service[customer_service['status'] == 'NoShow'])\n",
    "print((noshow_total_cs/18948)*100)"
   ]
  },
  {
   "cell_type": "code",
   "execution_count": 103,
   "metadata": {},
   "outputs": [
    {
     "name": "stdout",
     "output_type": "stream",
     "text": [
      "0.005277601857715854\n"
     ]
    }
   ],
   "source": [
    "declined_total_cs = len(customer_service[customer_service['status'] == 'Declined'])\n",
    "print((declined_total_cs/18948)*100)"
   ]
  },
  {
   "cell_type": "code",
   "execution_count": 104,
   "metadata": {},
   "outputs": [
    {
     "name": "stdout",
     "output_type": "stream",
     "text": [
      "0.1372176483006122\n"
     ]
    }
   ],
   "source": [
    "sent_total_cs = len(customer_service[customer_service['status'] == 'Sent'])\n",
    "print((sent_total_cs/18948)*100)"
   ]
  },
  {
   "cell_type": "code",
   "execution_count": 105,
   "metadata": {},
   "outputs": [
    {
     "name": "stdout",
     "output_type": "stream",
     "text": [
      "29.54401519949335\n"
     ]
    }
   ],
   "source": [
    "filled_total_cs = len(customer_service[customer_service['status'] == 'Filled'])\n",
    "print((filled_total_cs/18948)*100)"
   ]
  },
  {
   "cell_type": "code",
   "execution_count": 106,
   "metadata": {},
   "outputs": [
    {
     "name": "stdout",
     "output_type": "stream",
     "text": [
      "1.7893765381460214\n"
     ]
    }
   ],
   "source": [
    "canceled_total_pt = len(product_tester[product_tester['status'] == 'Canceled'])\n",
    "print((canceled_total_pt/19504)*100)"
   ]
  },
  {
   "cell_type": "code",
   "execution_count": 107,
   "metadata": {},
   "outputs": [
    {
     "name": "stdout",
     "output_type": "stream",
     "text": [
      "53.56337161607875\n"
     ]
    }
   ],
   "source": [
    "expired_total_pt = len(product_tester[product_tester['status'] == 'Expired'])\n",
    "print((expired_total_pt/19504)*100)"
   ]
  },
  {
   "cell_type": "code",
   "execution_count": 108,
   "metadata": {},
   "outputs": [
    {
     "name": "stdout",
     "output_type": "stream",
     "text": [
      "1.0920836751435603\n"
     ]
    }
   ],
   "source": [
    "completed_total_pt = len(product_tester[product_tester['status'] == 'Completed'])\n",
    "print((completed_total_pt/19504)*100)"
   ]
  },
  {
   "cell_type": "code",
   "execution_count": 109,
   "metadata": {},
   "outputs": [
    {
     "name": "stdout",
     "output_type": "stream",
     "text": [
      "0.3281378178835111\n"
     ]
    }
   ],
   "source": [
    "noshow_total_pt = len(product_tester[product_tester['status'] == 'NoShow'])\n",
    "print((noshow_total_pt/19504)*100)"
   ]
  },
  {
   "cell_type": "code",
   "execution_count": 110,
   "metadata": {},
   "outputs": [
    {
     "name": "stdout",
     "output_type": "stream",
     "text": [
      "1.1228465955701394\n"
     ]
    }
   ],
   "source": [
    "declined_total_pt = len(product_tester[product_tester['status'] == 'Declined'])\n",
    "print((declined_total_pt/19504)*100)"
   ]
  },
  {
   "cell_type": "code",
   "execution_count": 111,
   "metadata": {},
   "outputs": [
    {
     "name": "stdout",
     "output_type": "stream",
     "text": [
      "42.10418375717801\n"
     ]
    }
   ],
   "source": [
    "filled_total_pt = len(product_tester[product_tester['status'] == 'Filled'])\n",
    "print((filled_total_pt/19504)*100)"
   ]
  },
  {
   "cell_type": "code",
   "execution_count": 112,
   "metadata": {},
   "outputs": [
    {
     "name": "stdout",
     "output_type": "stream",
     "text": [
      "0.0\n"
     ]
    }
   ],
   "source": [
    "sent_total_pt = len(product_tester[product_tester['status'] == 'Sent'])\n",
    "print((sent_total_pt/19504)*100)"
   ]
  },
  {
   "cell_type": "code",
   "execution_count": 116,
   "metadata": {},
   "outputs": [
    {
     "data": {
      "text/html": [
       "<div>\n",
       "<style scoped>\n",
       "    .dataframe tbody tr th:only-of-type {\n",
       "        vertical-align: middle;\n",
       "    }\n",
       "\n",
       "    .dataframe tbody tr th {\n",
       "        vertical-align: top;\n",
       "    }\n",
       "\n",
       "    .dataframe thead th {\n",
       "        text-align: right;\n",
       "    }\n",
       "</style>\n",
       "<table border=\"1\" class=\"dataframe\">\n",
       "  <thead>\n",
       "    <tr style=\"text-align: right;\">\n",
       "      <th></th>\n",
       "      <th>id</th>\n",
       "      <th>worker</th>\n",
       "      <th>project</th>\n",
       "      <th>status</th>\n",
       "      <th>title</th>\n",
       "      <th>start</th>\n",
       "      <th>end</th>\n",
       "      <th>duration</th>\n",
       "      <th>rate</th>\n",
       "      <th>created_at</th>\n",
       "      <th>...</th>\n",
       "      <th>On time</th>\n",
       "      <th>checkout_at</th>\n",
       "      <th>On time.1</th>\n",
       "      <th>performance_rating</th>\n",
       "      <th>payment_status</th>\n",
       "      <th>approval_status</th>\n",
       "      <th>payment_due</th>\n",
       "      <th>hours_worked</th>\n",
       "      <th>bonus</th>\n",
       "      <th>day_of_week</th>\n",
       "    </tr>\n",
       "  </thead>\n",
       "  <tbody>\n",
       "    <tr>\n",
       "      <th>0</th>\n",
       "      <td>58890</td>\n",
       "      <td>6c2978aa</td>\n",
       "      <td>Product Tester</td>\n",
       "      <td>Completed</td>\n",
       "      <td>Product Tester (Dallas)</td>\n",
       "      <td>2021-03-25 20:00:00</td>\n",
       "      <td>3/25/21 21:30</td>\n",
       "      <td>1.5</td>\n",
       "      <td>20</td>\n",
       "      <td>3/19/21 22:51</td>\n",
       "      <td>...</td>\n",
       "      <td>NaN</td>\n",
       "      <td>3/25/21 22:17</td>\n",
       "      <td>NaN</td>\n",
       "      <td>1.0</td>\n",
       "      <td>paid</td>\n",
       "      <td>approved</td>\n",
       "      <td>41.40</td>\n",
       "      <td>2.06</td>\n",
       "      <td>100.0</td>\n",
       "      <td>Thursday</td>\n",
       "    </tr>\n",
       "    <tr>\n",
       "      <th>1</th>\n",
       "      <td>8769</td>\n",
       "      <td>016c3ad6</td>\n",
       "      <td>Local Courier</td>\n",
       "      <td>Completed</td>\n",
       "      <td>Local Courier (Dallas)</td>\n",
       "      <td>2021-03-26 14:25:00</td>\n",
       "      <td>3/26/21 17:00</td>\n",
       "      <td>2.5</td>\n",
       "      <td>12</td>\n",
       "      <td>3/26/21 14:19</td>\n",
       "      <td>...</td>\n",
       "      <td>NaN</td>\n",
       "      <td>3/26/21 18:30</td>\n",
       "      <td>NaN</td>\n",
       "      <td>1.0</td>\n",
       "      <td>paid</td>\n",
       "      <td>approved</td>\n",
       "      <td>30.00</td>\n",
       "      <td>1.88</td>\n",
       "      <td>50.0</td>\n",
       "      <td>Friday</td>\n",
       "    </tr>\n",
       "    <tr>\n",
       "      <th>2</th>\n",
       "      <td>25104</td>\n",
       "      <td>8f06633b</td>\n",
       "      <td>Product Tester</td>\n",
       "      <td>Completed</td>\n",
       "      <td>Product Tester (Dallas)</td>\n",
       "      <td>2021-03-24 14:00:00</td>\n",
       "      <td>3/24/21 15:30</td>\n",
       "      <td>1.5</td>\n",
       "      <td>20</td>\n",
       "      <td>3/18/21 15:08</td>\n",
       "      <td>...</td>\n",
       "      <td>NaN</td>\n",
       "      <td>3/24/21 16:02</td>\n",
       "      <td>NaN</td>\n",
       "      <td>1.0</td>\n",
       "      <td>paid</td>\n",
       "      <td>approved</td>\n",
       "      <td>40.00</td>\n",
       "      <td>2.15</td>\n",
       "      <td>50.0</td>\n",
       "      <td>Wednesday</td>\n",
       "    </tr>\n",
       "    <tr>\n",
       "      <th>3</th>\n",
       "      <td>47791</td>\n",
       "      <td>b68f79f8</td>\n",
       "      <td>Local Courier</td>\n",
       "      <td>Completed</td>\n",
       "      <td>Local Courier (Sacremento)</td>\n",
       "      <td>2021-03-23 22:10:00</td>\n",
       "      <td>3/24/21 1:10</td>\n",
       "      <td>3.0</td>\n",
       "      <td>17</td>\n",
       "      <td>3/23/21 22:08</td>\n",
       "      <td>...</td>\n",
       "      <td>NaN</td>\n",
       "      <td>3/24/21 4:14</td>\n",
       "      <td>NaN</td>\n",
       "      <td>1.0</td>\n",
       "      <td>paid</td>\n",
       "      <td>approved</td>\n",
       "      <td>51.00</td>\n",
       "      <td>6.09</td>\n",
       "      <td>50.0</td>\n",
       "      <td>Tuesday</td>\n",
       "    </tr>\n",
       "    <tr>\n",
       "      <th>4</th>\n",
       "      <td>32056</td>\n",
       "      <td>ddcb2032</td>\n",
       "      <td>Local Courier</td>\n",
       "      <td>Completed</td>\n",
       "      <td>Local Courier (SF)</td>\n",
       "      <td>2021-03-17 19:45:00</td>\n",
       "      <td>3/17/21 22:45</td>\n",
       "      <td>3.0</td>\n",
       "      <td>19</td>\n",
       "      <td>3/17/21 19:50</td>\n",
       "      <td>...</td>\n",
       "      <td>NaN</td>\n",
       "      <td>3/17/21 23:00</td>\n",
       "      <td>NaN</td>\n",
       "      <td>1.0</td>\n",
       "      <td>paid</td>\n",
       "      <td>approved</td>\n",
       "      <td>65.17</td>\n",
       "      <td>3.99</td>\n",
       "      <td>20.0</td>\n",
       "      <td>Wednesday</td>\n",
       "    </tr>\n",
       "  </tbody>\n",
       "</table>\n",
       "<p>5 rows × 29 columns</p>\n",
       "</div>"
      ],
      "text/plain": [
       "      id    worker         project     status                       title  \\\n",
       "0  58890  6c2978aa  Product Tester  Completed     Product Tester (Dallas)   \n",
       "1   8769  016c3ad6   Local Courier  Completed      Local Courier (Dallas)   \n",
       "2  25104  8f06633b  Product Tester  Completed     Product Tester (Dallas)   \n",
       "3  47791  b68f79f8   Local Courier  Completed  Local Courier (Sacremento)   \n",
       "4  32056  ddcb2032   Local Courier  Completed          Local Courier (SF)   \n",
       "\n",
       "                start            end  duration  rate     created_at  ...  \\\n",
       "0 2021-03-25 20:00:00  3/25/21 21:30       1.5    20  3/19/21 22:51  ...   \n",
       "1 2021-03-26 14:25:00  3/26/21 17:00       2.5    12  3/26/21 14:19  ...   \n",
       "2 2021-03-24 14:00:00  3/24/21 15:30       1.5    20  3/18/21 15:08  ...   \n",
       "3 2021-03-23 22:10:00   3/24/21 1:10       3.0    17  3/23/21 22:08  ...   \n",
       "4 2021-03-17 19:45:00  3/17/21 22:45       3.0    19  3/17/21 19:50  ...   \n",
       "\n",
       "  On time    checkout_at On time.1 performance_rating payment_status  \\\n",
       "0     NaN  3/25/21 22:17       NaN                1.0           paid   \n",
       "1     NaN  3/26/21 18:30       NaN                1.0           paid   \n",
       "2     NaN  3/24/21 16:02       NaN                1.0           paid   \n",
       "3     NaN   3/24/21 4:14       NaN                1.0           paid   \n",
       "4     NaN  3/17/21 23:00       NaN                1.0           paid   \n",
       "\n",
       "  approval_status payment_due hours_worked  bonus  day_of_week  \n",
       "0        approved       41.40         2.06  100.0     Thursday  \n",
       "1        approved       30.00         1.88   50.0       Friday  \n",
       "2        approved       40.00         2.15   50.0    Wednesday  \n",
       "3        approved       51.00         6.09   50.0      Tuesday  \n",
       "4        approved       65.17         3.99   20.0    Wednesday  \n",
       "\n",
       "[5 rows x 29 columns]"
      ]
     },
     "execution_count": 116,
     "metadata": {},
     "output_type": "execute_result"
    }
   ],
   "source": [
    "df['start'] = pd.to_datetime(df['start'], format='%m/%d/%y %H:%M')\n",
    "df['day_of_week'] = df['start'].dt.day_name()\n",
    "df.head()"
   ]
  },
  {
   "cell_type": "code",
   "execution_count": 117,
   "metadata": {},
   "outputs": [
    {
     "data": {
      "text/plain": [
       "status\n",
       "Assigned          2.666667\n",
       "Canceled          2.968828\n",
       "Completed         3.053269\n",
       "Declined          2.628159\n",
       "Expired           2.536751\n",
       "Filled            2.869966\n",
       "NoShow            2.949074\n",
       "Oversubscribed    2.000000\n",
       "Sent              2.000000\n",
       "Name: duration, dtype: float64"
      ]
     },
     "execution_count": 117,
     "metadata": {},
     "output_type": "execute_result"
    }
   ],
   "source": [
    "df.groupby(['status'])['duration'].mean()"
   ]
  },
  {
   "cell_type": "code",
   "execution_count": 137,
   "metadata": {},
   "outputs": [
    {
     "data": {
      "text/plain": [
       "2.7631095308720526"
      ]
     },
     "execution_count": 137,
     "metadata": {},
     "output_type": "execute_result"
    }
   ],
   "source": [
    "df['duration'].mean()"
   ]
  },
  {
   "cell_type": "code",
   "execution_count": 119,
   "metadata": {},
   "outputs": [
    {
     "data": {
      "text/plain": [
       "status\n",
       "Assigned          2.000000\n",
       "Canceled          3.373623\n",
       "Completed         3.728737\n",
       "Declined          3.420659\n",
       "Expired           3.541034\n",
       "Filled            3.501990\n",
       "NoShow            3.865234\n",
       "Oversubscribed    0.000000\n",
       "Name: duration, dtype: float64"
      ]
     },
     "execution_count": 119,
     "metadata": {},
     "output_type": "execute_result"
    }
   ],
   "source": [
    "local_courier.groupby(['status'])['duration'].mean()"
   ]
  },
  {
   "cell_type": "code",
   "execution_count": 120,
   "metadata": {},
   "outputs": [
    {
     "data": {
      "text/plain": [
       "status\n",
       "Canceled     1.375358\n",
       "Completed    1.436620\n",
       "Declined     1.422374\n",
       "Expired      1.487413\n",
       "Filled       1.277886\n",
       "NoShow       1.445312\n",
       "Name: duration, dtype: float64"
      ]
     },
     "execution_count": 120,
     "metadata": {},
     "output_type": "execute_result"
    }
   ],
   "source": [
    "product_tester.groupby(['status'])['duration'].mean()"
   ]
  },
  {
   "cell_type": "code",
   "execution_count": 121,
   "metadata": {},
   "outputs": [
    {
     "data": {
      "text/plain": [
       "status\n",
       "Assigned          3.000000\n",
       "Canceled          2.651037\n",
       "Completed         2.733664\n",
       "Declined          2.000000\n",
       "Expired           2.674731\n",
       "Filled            2.752116\n",
       "NoShow            2.679487\n",
       "Oversubscribed    4.000000\n",
       "Sent              2.000000\n",
       "Name: duration, dtype: float64"
      ]
     },
     "execution_count": 121,
     "metadata": {},
     "output_type": "execute_result"
    }
   ],
   "source": [
    "customer_service.groupby(['status'])['duration'].mean()"
   ]
  },
  {
   "cell_type": "code",
   "execution_count": 122,
   "metadata": {},
   "outputs": [
    {
     "data": {
      "text/plain": [
       "status\n",
       "Assigned          12.333333\n",
       "Canceled          14.108153\n",
       "Completed         12.944382\n",
       "Declined          17.974729\n",
       "Expired           15.916499\n",
       "Filled            16.130304\n",
       "NoShow            15.881481\n",
       "Oversubscribed    11.000000\n",
       "Sent              10.000000\n",
       "Name: rate, dtype: float64"
      ]
     },
     "execution_count": 122,
     "metadata": {},
     "output_type": "execute_result"
    }
   ],
   "source": [
    "df.groupby(['status'])['rate'].mean()"
   ]
  },
  {
   "cell_type": "code",
   "execution_count": 124,
   "metadata": {},
   "outputs": [
    {
     "data": {
      "text/plain": [
       "status\n",
       "Assigned          17.000000\n",
       "Canceled          16.232387\n",
       "Completed         16.751384\n",
       "Declined          16.670659\n",
       "Expired           16.306147\n",
       "Filled            16.247170\n",
       "NoShow            17.250000\n",
       "Oversubscribed    12.000000\n",
       "Name: rate, dtype: float64"
      ]
     },
     "execution_count": 124,
     "metadata": {},
     "output_type": "execute_result"
    }
   ],
   "source": [
    "local_courier.groupby(['status'])['rate'].mean()"
   ]
  },
  {
   "cell_type": "code",
   "execution_count": 126,
   "metadata": {},
   "outputs": [
    {
     "data": {
      "text/plain": [
       "status\n",
       "Canceled     20\n",
       "Completed    20\n",
       "Declined     20\n",
       "Expired      20\n",
       "Filled       20\n",
       "NoShow       20\n",
       "Name: rate, dtype: int64"
      ]
     },
     "execution_count": 126,
     "metadata": {},
     "output_type": "execute_result"
    }
   ],
   "source": [
    "product_tester.groupby(['status'])['rate'].mean()"
   ]
  },
  {
   "cell_type": "code",
   "execution_count": 127,
   "metadata": {},
   "outputs": [
    {
     "data": {
      "text/plain": [
       "array([20])"
      ]
     },
     "execution_count": 127,
     "metadata": {},
     "output_type": "execute_result"
    }
   ],
   "source": [
    "product_tester['rate'].unique()"
   ]
  },
  {
   "cell_type": "code",
   "execution_count": 128,
   "metadata": {},
   "outputs": [
    {
     "data": {
      "text/plain": [
       "status\n",
       "Assigned          10.000000\n",
       "Canceled          10.031477\n",
       "Completed         10.040038\n",
       "Declined          10.000000\n",
       "Expired           10.145872\n",
       "Filled            10.000000\n",
       "NoShow            10.256410\n",
       "Oversubscribed    10.000000\n",
       "Sent              10.000000\n",
       "Name: rate, dtype: float64"
      ]
     },
     "execution_count": 128,
     "metadata": {},
     "output_type": "execute_result"
    }
   ],
   "source": [
    "customer_service.groupby(['status'])['rate'].mean()"
   ]
  },
  {
   "cell_type": "code",
   "execution_count": 133,
   "metadata": {},
   "outputs": [
    {
     "data": {
      "text/plain": [
       "array([[<AxesSubplot:title={'center':'performance_rating'}>]],\n",
       "      dtype=object)"
      ]
     },
     "execution_count": 133,
     "metadata": {},
     "output_type": "execute_result"
    },
    {
     "data": {
      "image/png": "[encoded data removed]",
      "text/plain": [
       "<Figure size 432x288 with 1 Axes>"
      ]
     },
     "metadata": {
      "needs_background": "light"
     },
     "output_type": "display_data"
    }
   ],
   "source": [
    "customer_service.hist(column = ['performance_rating'])"
   ]
  },
  {
   "cell_type": "code",
   "execution_count": 134,
   "metadata": {},
   "outputs": [
    {
     "data": {
      "text/plain": [
       "array([[<AxesSubplot:title={'center':'performance_rating'}>]],\n",
       "      dtype=object)"
      ]
     },
     "execution_count": 134,
     "metadata": {},
     "output_type": "execute_result"
    },
    {
     "data": {
      "image/png": "[encoded data removed]",
      "text/plain": [
       "<Figure size 432x288 with 1 Axes>"
      ]
     },
     "metadata": {
      "needs_background": "light"
     },
     "output_type": "display_data"
    }
   ],
   "source": [
    "product_tester.hist(column = ['performance_rating'])"
   ]
  },
  {
   "cell_type": "code",
   "execution_count": 135,
   "metadata": {},
   "outputs": [
    {
     "data": {
      "text/plain": [
       "array([[<AxesSubplot:title={'center':'performance_rating'}>]],\n",
       "      dtype=object)"
      ]
     },
     "execution_count": 135,
     "metadata": {},
     "output_type": "execute_result"
    },
    {
     "data": {
      "image/png": "[encoded data removed]",
      "text/plain": [
       "<Figure size 432x288 with 1 Axes>"
      ]
     },
     "metadata": {
      "needs_background": "light"
     },
     "output_type": "display_data"
    }
   ],
   "source": [
    "local_courier.hist(column = ['performance_rating'])"
   ]
  },
  {
   "cell_type": "code",
   "execution_count": 169,
   "metadata": {},
   "outputs": [],
   "source": [
    "df['status'].replace({'Completed': 'Filled', 'Expired': 'Unfilled','Canceled':'Unfilled', 'Declined':'Unfilled',\n",
    "                      'NoShow': 'Unfilled', 'Oversubscribed':'Unfilled', 'Assigned':'Filled', 'Sent':'Filled'}, inplace=True)"
   ]
  },
  {
   "cell_type": "code",
   "execution_count": 142,
   "metadata": {},
   "outputs": [
    {
     "data": {
      "text/html": [
       "<div>\n",
       "<style scoped>\n",
       "    .dataframe tbody tr th:only-of-type {\n",
       "        vertical-align: middle;\n",
       "    }\n",
       "\n",
       "    .dataframe tbody tr th {\n",
       "        vertical-align: top;\n",
       "    }\n",
       "\n",
       "    .dataframe thead th {\n",
       "        text-align: right;\n",
       "    }\n",
       "</style>\n",
       "<table border=\"1\" class=\"dataframe\">\n",
       "  <thead>\n",
       "    <tr style=\"text-align: right;\">\n",
       "      <th></th>\n",
       "      <th>id</th>\n",
       "      <th>worker</th>\n",
       "      <th>project</th>\n",
       "      <th>status</th>\n",
       "      <th>title</th>\n",
       "      <th>start</th>\n",
       "      <th>end</th>\n",
       "      <th>duration</th>\n",
       "      <th>rate</th>\n",
       "      <th>created_at</th>\n",
       "      <th>...</th>\n",
       "      <th>On time</th>\n",
       "      <th>checkout_at</th>\n",
       "      <th>On time.1</th>\n",
       "      <th>performance_rating</th>\n",
       "      <th>payment_status</th>\n",
       "      <th>approval_status</th>\n",
       "      <th>payment_due</th>\n",
       "      <th>hours_worked</th>\n",
       "      <th>bonus</th>\n",
       "      <th>day_of_week</th>\n",
       "    </tr>\n",
       "  </thead>\n",
       "  <tbody>\n",
       "    <tr>\n",
       "      <th>0</th>\n",
       "      <td>58890</td>\n",
       "      <td>6c2978aa</td>\n",
       "      <td>Product Tester</td>\n",
       "      <td>Filled</td>\n",
       "      <td>Product Tester (Dallas)</td>\n",
       "      <td>2021-03-25 20:00:00</td>\n",
       "      <td>3/25/21 21:30</td>\n",
       "      <td>1.5</td>\n",
       "      <td>20</td>\n",
       "      <td>3/19/21 22:51</td>\n",
       "      <td>...</td>\n",
       "      <td>NaN</td>\n",
       "      <td>3/25/21 22:17</td>\n",
       "      <td>NaN</td>\n",
       "      <td>1.0</td>\n",
       "      <td>paid</td>\n",
       "      <td>approved</td>\n",
       "      <td>41.40</td>\n",
       "      <td>2.06</td>\n",
       "      <td>100.0</td>\n",
       "      <td>Thursday</td>\n",
       "    </tr>\n",
       "    <tr>\n",
       "      <th>1</th>\n",
       "      <td>8769</td>\n",
       "      <td>016c3ad6</td>\n",
       "      <td>Local Courier</td>\n",
       "      <td>Filled</td>\n",
       "      <td>Local Courier (Dallas)</td>\n",
       "      <td>2021-03-26 14:25:00</td>\n",
       "      <td>3/26/21 17:00</td>\n",
       "      <td>2.5</td>\n",
       "      <td>12</td>\n",
       "      <td>3/26/21 14:19</td>\n",
       "      <td>...</td>\n",
       "      <td>NaN</td>\n",
       "      <td>3/26/21 18:30</td>\n",
       "      <td>NaN</td>\n",
       "      <td>1.0</td>\n",
       "      <td>paid</td>\n",
       "      <td>approved</td>\n",
       "      <td>30.00</td>\n",
       "      <td>1.88</td>\n",
       "      <td>50.0</td>\n",
       "      <td>Friday</td>\n",
       "    </tr>\n",
       "    <tr>\n",
       "      <th>2</th>\n",
       "      <td>25104</td>\n",
       "      <td>8f06633b</td>\n",
       "      <td>Product Tester</td>\n",
       "      <td>Filled</td>\n",
       "      <td>Product Tester (Dallas)</td>\n",
       "      <td>2021-03-24 14:00:00</td>\n",
       "      <td>3/24/21 15:30</td>\n",
       "      <td>1.5</td>\n",
       "      <td>20</td>\n",
       "      <td>3/18/21 15:08</td>\n",
       "      <td>...</td>\n",
       "      <td>NaN</td>\n",
       "      <td>3/24/21 16:02</td>\n",
       "      <td>NaN</td>\n",
       "      <td>1.0</td>\n",
       "      <td>paid</td>\n",
       "      <td>approved</td>\n",
       "      <td>40.00</td>\n",
       "      <td>2.15</td>\n",
       "      <td>50.0</td>\n",
       "      <td>Wednesday</td>\n",
       "    </tr>\n",
       "    <tr>\n",
       "      <th>3</th>\n",
       "      <td>47791</td>\n",
       "      <td>b68f79f8</td>\n",
       "      <td>Local Courier</td>\n",
       "      <td>Filled</td>\n",
       "      <td>Local Courier (Sacremento)</td>\n",
       "      <td>2021-03-23 22:10:00</td>\n",
       "      <td>3/24/21 1:10</td>\n",
       "      <td>3.0</td>\n",
       "      <td>17</td>\n",
       "      <td>3/23/21 22:08</td>\n",
       "      <td>...</td>\n",
       "      <td>NaN</td>\n",
       "      <td>3/24/21 4:14</td>\n",
       "      <td>NaN</td>\n",
       "      <td>1.0</td>\n",
       "      <td>paid</td>\n",
       "      <td>approved</td>\n",
       "      <td>51.00</td>\n",
       "      <td>6.09</td>\n",
       "      <td>50.0</td>\n",
       "      <td>Tuesday</td>\n",
       "    </tr>\n",
       "    <tr>\n",
       "      <th>4</th>\n",
       "      <td>32056</td>\n",
       "      <td>ddcb2032</td>\n",
       "      <td>Local Courier</td>\n",
       "      <td>Filled</td>\n",
       "      <td>Local Courier (SF)</td>\n",
       "      <td>2021-03-17 19:45:00</td>\n",
       "      <td>3/17/21 22:45</td>\n",
       "      <td>3.0</td>\n",
       "      <td>19</td>\n",
       "      <td>3/17/21 19:50</td>\n",
       "      <td>...</td>\n",
       "      <td>NaN</td>\n",
       "      <td>3/17/21 23:00</td>\n",
       "      <td>NaN</td>\n",
       "      <td>1.0</td>\n",
       "      <td>paid</td>\n",
       "      <td>approved</td>\n",
       "      <td>65.17</td>\n",
       "      <td>3.99</td>\n",
       "      <td>20.0</td>\n",
       "      <td>Wednesday</td>\n",
       "    </tr>\n",
       "  </tbody>\n",
       "</table>\n",
       "<p>5 rows × 29 columns</p>\n",
       "</div>"
      ],
      "text/plain": [
       "      id    worker         project  status                       title  \\\n",
       "0  58890  6c2978aa  Product Tester  Filled     Product Tester (Dallas)   \n",
       "1   8769  016c3ad6   Local Courier  Filled      Local Courier (Dallas)   \n",
       "2  25104  8f06633b  Product Tester  Filled     Product Tester (Dallas)   \n",
       "3  47791  b68f79f8   Local Courier  Filled  Local Courier (Sacremento)   \n",
       "4  32056  ddcb2032   Local Courier  Filled          Local Courier (SF)   \n",
       "\n",
       "                start            end  duration  rate     created_at  ...  \\\n",
       "0 2021-03-25 20:00:00  3/25/21 21:30       1.5    20  3/19/21 22:51  ...   \n",
       "1 2021-03-26 14:25:00  3/26/21 17:00       2.5    12  3/26/21 14:19  ...   \n",
       "2 2021-03-24 14:00:00  3/24/21 15:30       1.5    20  3/18/21 15:08  ...   \n",
       "3 2021-03-23 22:10:00   3/24/21 1:10       3.0    17  3/23/21 22:08  ...   \n",
       "4 2021-03-17 19:45:00  3/17/21 22:45       3.0    19  3/17/21 19:50  ...   \n",
       "\n",
       "  On time    checkout_at On time.1 performance_rating payment_status  \\\n",
       "0     NaN  3/25/21 22:17       NaN                1.0           paid   \n",
       "1     NaN  3/26/21 18:30       NaN                1.0           paid   \n",
       "2     NaN  3/24/21 16:02       NaN                1.0           paid   \n",
       "3     NaN   3/24/21 4:14       NaN                1.0           paid   \n",
       "4     NaN  3/17/21 23:00       NaN                1.0           paid   \n",
       "\n",
       "  approval_status payment_due hours_worked  bonus  day_of_week  \n",
       "0        approved       41.40         2.06  100.0     Thursday  \n",
       "1        approved       30.00         1.88   50.0       Friday  \n",
       "2        approved       40.00         2.15   50.0    Wednesday  \n",
       "3        approved       51.00         6.09   50.0      Tuesday  \n",
       "4        approved       65.17         3.99   20.0    Wednesday  \n",
       "\n",
       "[5 rows x 29 columns]"
      ]
     },
     "execution_count": 142,
     "metadata": {},
     "output_type": "execute_result"
    }
   ],
   "source": [
    "df.head()"
   ]
  },
  {
   "cell_type": "code",
   "execution_count": 145,
   "metadata": {},
   "outputs": [
    {
     "data": {
      "text/plain": [
       "status\n",
       "Assigned          2.666667\n",
       "Filled            2.893840\n",
       "Oversubscribed    2.000000\n",
       "Sent              2.000000\n",
       "Unfilled          2.609096\n",
       "Name: duration, dtype: float64"
      ]
     },
     "execution_count": 145,
     "metadata": {},
     "output_type": "execute_result"
    }
   ],
   "source": [
    "df.groupby(['status'])['duration'].mean()"
   ]
  },
  {
   "cell_type": "code",
   "execution_count": 146,
   "metadata": {},
   "outputs": [
    {
     "name": "stderr",
     "output_type": "stream",
     "text": [
      "/opt/anaconda3/lib/python3.7/site-packages/pandas/core/series.py:4569: SettingWithCopyWarning: \n",
      "A value is trying to be set on a copy of a slice from a DataFrame\n",
      "\n",
      "See the caveats in the documentation: https://pandas.pydata.org/pandas-docs/stable/user_guide/indexing.html#returning-a-view-versus-a-copy\n",
      "  method=method,\n"
     ]
    }
   ],
   "source": [
    "local_courier['status'].replace({'Completed': 'Filled', 'Expired': 'Unfilled','Canceled':'Unfilled', 'Declined':'Unfilled','NoShow': 'Unfilled'}, \n",
    "                     inplace=True)"
   ]
  },
  {
   "cell_type": "code",
   "execution_count": 147,
   "metadata": {},
   "outputs": [
    {
     "data": {
      "text/plain": [
       "status\n",
       "Assigned          2.000000\n",
       "Filled            3.520987\n",
       "Oversubscribed    0.000000\n",
       "Unfilled          3.503336\n",
       "Name: duration, dtype: float64"
      ]
     },
     "execution_count": 147,
     "metadata": {},
     "output_type": "execute_result"
    }
   ],
   "source": [
    "local_courier.groupby(['status'])['duration'].mean()"
   ]
  },
  {
   "cell_type": "code",
   "execution_count": 148,
   "metadata": {},
   "outputs": [],
   "source": [
    "customer_service['status'].replace({'Completed': 'Filled', 'Expired': 'Unfilled','Canceled':'Unfilled', 'Declined':'Unfilled','NoShow': 'Unfilled'}, \n",
    "                     inplace=True)"
   ]
  },
  {
   "cell_type": "code",
   "execution_count": 149,
   "metadata": {},
   "outputs": [
    {
     "data": {
      "text/plain": [
       "status\n",
       "Assigned          3.000000\n",
       "Filled            2.745510\n",
       "Oversubscribed    4.000000\n",
       "Sent              2.000000\n",
       "Unfilled          2.669904\n",
       "Name: duration, dtype: float64"
      ]
     },
     "execution_count": 149,
     "metadata": {},
     "output_type": "execute_result"
    }
   ],
   "source": [
    "customer_service.groupby(['status'])['duration'].mean()"
   ]
  },
  {
   "cell_type": "code",
   "execution_count": 150,
   "metadata": {},
   "outputs": [],
   "source": [
    "product_tester['status'].replace({'Completed': 'Filled', 'Expired': 'Unfilled','Canceled':'Unfilled', 'Declined':'Unfilled','NoShow': 'Unfilled'}, \n",
    "                     inplace=True)"
   ]
  },
  {
   "cell_type": "code",
   "execution_count": 151,
   "metadata": {},
   "outputs": [
    {
     "data": {
      "text/plain": [
       "status\n",
       "Assigned          3.000000\n",
       "Filled            2.745510\n",
       "Oversubscribed    4.000000\n",
       "Sent              2.000000\n",
       "Unfilled          2.669904\n",
       "Name: duration, dtype: float64"
      ]
     },
     "execution_count": 151,
     "metadata": {},
     "output_type": "execute_result"
    }
   ],
   "source": [
    "customer_service.groupby(['status'])['duration'].mean()"
   ]
  },
  {
   "cell_type": "code",
   "execution_count": 152,
   "metadata": {},
   "outputs": [
    {
     "data": {
      "text/plain": [
       "status\n",
       "Assigned          12.333333\n",
       "Filled            15.715359\n",
       "Oversubscribed    11.000000\n",
       "Sent              10.000000\n",
       "Unfilled          15.666078\n",
       "Name: rate, dtype: float64"
      ]
     },
     "execution_count": 152,
     "metadata": {},
     "output_type": "execute_result"
    }
   ],
   "source": [
    "df.groupby(['status'])['rate'].mean()"
   ]
  },
  {
   "cell_type": "code",
   "execution_count": 155,
   "metadata": {},
   "outputs": [
    {
     "data": {
      "text/plain": [
       "status\n",
       "Assigned          17.000000\n",
       "Filled            16.289413\n",
       "Oversubscribed    12.000000\n",
       "Unfilled          16.307779\n",
       "Name: rate, dtype: float64"
      ]
     },
     "execution_count": 155,
     "metadata": {},
     "output_type": "execute_result"
    }
   ],
   "source": [
    "local_courier.groupby(['status'])['rate'].mean()"
   ]
  },
  {
   "cell_type": "code",
   "execution_count": 156,
   "metadata": {},
   "outputs": [
    {
     "data": {
      "text/plain": [
       "status\n",
       "Assigned          10.000000\n",
       "Filled            10.014335\n",
       "Oversubscribed    10.000000\n",
       "Sent              10.000000\n",
       "Unfilled          10.123542\n",
       "Name: rate, dtype: float64"
      ]
     },
     "execution_count": 156,
     "metadata": {},
     "output_type": "execute_result"
    }
   ],
   "source": [
    "customer_service.groupby(['status'])['rate'].mean()"
   ]
  },
  {
   "cell_type": "code",
   "execution_count": 172,
   "metadata": {},
   "outputs": [
    {
     "data": {
      "text/html": [
       "<div>\n",
       "<style scoped>\n",
       "    .dataframe tbody tr th:only-of-type {\n",
       "        vertical-align: middle;\n",
       "    }\n",
       "\n",
       "    .dataframe tbody tr th {\n",
       "        vertical-align: top;\n",
       "    }\n",
       "\n",
       "    .dataframe thead th {\n",
       "        text-align: right;\n",
       "    }\n",
       "</style>\n",
       "<table border=\"1\" class=\"dataframe\">\n",
       "  <thead>\n",
       "    <tr style=\"text-align: right;\">\n",
       "      <th>day_of_week</th>\n",
       "      <th>Friday</th>\n",
       "      <th>Monday</th>\n",
       "      <th>Saturday</th>\n",
       "      <th>Sunday</th>\n",
       "      <th>Thursday</th>\n",
       "      <th>Tuesday</th>\n",
       "      <th>Wednesday</th>\n",
       "    </tr>\n",
       "    <tr>\n",
       "      <th>status</th>\n",
       "      <th></th>\n",
       "      <th></th>\n",
       "      <th></th>\n",
       "      <th></th>\n",
       "      <th></th>\n",
       "      <th></th>\n",
       "      <th></th>\n",
       "    </tr>\n",
       "  </thead>\n",
       "  <tbody>\n",
       "    <tr>\n",
       "      <th>Filled</th>\n",
       "      <td>5061</td>\n",
       "      <td>6562</td>\n",
       "      <td>4293</td>\n",
       "      <td>4437</td>\n",
       "      <td>5352</td>\n",
       "      <td>7947</td>\n",
       "      <td>7239</td>\n",
       "    </tr>\n",
       "    <tr>\n",
       "      <th>Unfilled</th>\n",
       "      <td>5689</td>\n",
       "      <td>8071</td>\n",
       "      <td>4024</td>\n",
       "      <td>3039</td>\n",
       "      <td>3794</td>\n",
       "      <td>5969</td>\n",
       "      <td>3960</td>\n",
       "    </tr>\n",
       "  </tbody>\n",
       "</table>\n",
       "</div>"
      ],
      "text/plain": [
       "day_of_week  Friday  Monday  Saturday  Sunday  Thursday  Tuesday  Wednesday\n",
       "status                                                                     \n",
       "Filled         5061    6562      4293    4437      5352     7947       7239\n",
       "Unfilled       5689    8071      4024    3039      3794     5969       3960"
      ]
     },
     "execution_count": 172,
     "metadata": {},
     "output_type": "execute_result"
    }
   ],
   "source": [
    "pd.crosstab(df.status, df.day_of_week)"
   ]
  },
  {
   "cell_type": "code",
   "execution_count": 173,
   "metadata": {},
   "outputs": [
    {
     "data": {
      "text/plain": [
       "(1445.5964115300935,\n",
       " 3.242899907906353e-309,\n",
       " 6,\n",
       " array([[5827.0908175 , 7931.89022628, 4508.27110039, 4052.40287922,\n",
       "         4957.63466204, 7543.23682013, 6070.47349444],\n",
       "        [4922.9091825 , 6701.10977372, 3808.72889961, 3423.59712078,\n",
       "         4188.36533796, 6372.76317987, 5128.52650556]]))"
      ]
     },
     "execution_count": 173,
     "metadata": {},
     "output_type": "execute_result"
    }
   ],
   "source": [
    "chi2_contingency(pd.crosstab(df.status, df.day_of_week))"
   ]
  },
  {
   "cell_type": "code",
   "execution_count": 179,
   "metadata": {},
   "outputs": [
    {
     "name": "stdout",
     "output_type": "stream",
     "text": [
      "<class 'pandas.core.frame.DataFrame'>\n",
      "RangeIndex: 75437 entries, 0 to 75436\n",
      "Data columns (total 29 columns):\n",
      " #   Column              Non-Null Count  Dtype         \n",
      "---  ------              --------------  -----         \n",
      " 0   id                  75437 non-null  int64         \n",
      " 1   worker              75437 non-null  object        \n",
      " 2   project             75437 non-null  object        \n",
      " 3   status              75437 non-null  object        \n",
      " 4   title               75437 non-null  object        \n",
      " 5   start               75437 non-null  datetime64[ns]\n",
      " 6   end                 75437 non-null  object        \n",
      " 7   duration            75437 non-null  float64       \n",
      " 8   rate                75437 non-null  int64         \n",
      " 9   created_at          75437 non-null  object        \n",
      " 10  sent_at             74931 non-null  object        \n",
      " 11  seen_at             33802 non-null  object        \n",
      " 12  assigned_at         8323 non-null   object        \n",
      " 13  canceled_at         5438 non-null   object        \n",
      " 14  confirmed_at        4547 non-null   object        \n",
      " 15  confirmedby         1 non-null      object        \n",
      " 16  canceled_by         4804 non-null   object        \n",
      " 17  confirmed_by        235 non-null    object        \n",
      " 18  checkin_at          5434 non-null   object        \n",
      " 19  On time             0 non-null      float64       \n",
      " 20  checkout_at         5313 non-null   object        \n",
      " 21  On time.1           0 non-null      float64       \n",
      " 22  performance_rating  5434 non-null   float64       \n",
      " 23  payment_status      3727 non-null   object        \n",
      " 24  approval_status     5554 non-null   object        \n",
      " 25  payment_due         75437 non-null  float64       \n",
      " 26  hours_worked        5313 non-null   float64       \n",
      " 27  bonus               25345 non-null  float64       \n",
      " 28  day_of_week         75437 non-null  object        \n",
      "dtypes: datetime64[ns](1), float64(7), int64(2), object(19)\n",
      "memory usage: 16.7+ MB\n"
     ]
    }
   ],
   "source": [
    "df.info()"
   ]
  },
  {
   "cell_type": "code",
   "execution_count": 193,
   "metadata": {},
   "outputs": [],
   "source": [
    "feature_cols = ['rate', 'duration']\n",
    "X = df[feature_cols] \n",
    "y = df.status"
   ]
  },
  {
   "cell_type": "code",
   "execution_count": 194,
   "metadata": {
    "scrolled": true
   },
   "outputs": [],
   "source": [
    "from sklearn.model_selection import train_test_split\n",
    "X_train,X_test,y_train,y_test=train_test_split(X,y,test_size=0.25,random_state=0)"
   ]
  },
  {
   "cell_type": "code",
   "execution_count": 195,
   "metadata": {},
   "outputs": [],
   "source": [
    "from sklearn.linear_model import LogisticRegression\n",
    "logreg = LogisticRegression()\n",
    "\n",
    "logreg.fit(X_train,y_train)\n",
    "\n",
    "y_pred=logreg.predict(X_test)"
   ]
  },
  {
   "cell_type": "code",
   "execution_count": 196,
   "metadata": {},
   "outputs": [
    {
     "data": {
      "text/plain": [
       "array([[6871, 3412],\n",
       "       [4589, 3988]])"
      ]
     },
     "execution_count": 196,
     "metadata": {},
     "output_type": "execute_result"
    }
   ],
   "source": [
    "from sklearn import metrics\n",
    "cnf_matrix = metrics.confusion_matrix(y_test, y_pred)\n",
    "cnf_matrix"
   ]
  },
  {
   "cell_type": "code",
   "execution_count": 197,
   "metadata": {},
   "outputs": [],
   "source": [
    "import numpy as np\n",
    "import matplotlib.pyplot as plt\n",
    "import seaborn as sns\n",
    "%matplotlib inline"
   ]
  },
  {
   "cell_type": "code",
   "execution_count": 198,
   "metadata": {},
   "outputs": [
    {
     "data": {
      "text/plain": [
       "Text(0.5, 257.44, 'Predicted label')"
      ]
     },
     "execution_count": 198,
     "metadata": {},
     "output_type": "execute_result"
    },
    {
     "data": {
      "image/png": "[encoded data removed]",
      "text/plain": [
       "<Figure size 432x288 with 2 Axes>"
      ]
     },
     "metadata": {
      "needs_background": "light"
     },
     "output_type": "display_data"
    }
   ],
   "source": [
    "class_names=[0,1] # name  of classes\n",
    "fig, ax = plt.subplots()\n",
    "tick_marks = np.arange(len(class_names))\n",
    "plt.xticks(tick_marks, class_names)\n",
    "plt.yticks(tick_marks, class_names)\n",
    "# create heatmap\n",
    "sns.heatmap(pd.DataFrame(cnf_matrix), annot=True, cmap=\"YlGnBu\" ,fmt='g')\n",
    "ax.xaxis.set_label_position(\"top\")\n",
    "plt.tight_layout()\n",
    "plt.title('Confusion matrix', y=1.1)\n",
    "plt.ylabel('Actual label')\n",
    "plt.xlabel('Predicted label')"
   ]
  },
  {
   "cell_type": "code",
   "execution_count": 199,
   "metadata": {},
   "outputs": [
    {
     "name": "stdout",
     "output_type": "stream",
     "text": [
      "Accuracy: 0.5757688229056204\n"
     ]
    }
   ],
   "source": [
    "print(\"Accuracy:\", metrics.accuracy_score(y_test, y_pred))"
   ]
  },
  {
   "cell_type": "code",
   "execution_count": 189,
   "metadata": {},
   "outputs": [
    {
     "data": {
      "text/plain": [
       "status\n",
       "Filled      45.879595\n",
       "Unfilled    39.615177\n",
       "Name: payment_due, dtype: float64"
      ]
     },
     "execution_count": 189,
     "metadata": {},
     "output_type": "execute_result"
    }
   ],
   "source": [
    "df.groupby(['status'])['payment_due'].mean()"
   ]
  },
  {
   "cell_type": "code",
   "execution_count": 190,
   "metadata": {},
   "outputs": [
    {
     "data": {
      "text/plain": [
       "status\n",
       "Assigned          34.000000\n",
       "Filled            58.481026\n",
       "Oversubscribed     0.000000\n",
       "Unfilled          57.658792\n",
       "Name: payment_due, dtype: float64"
      ]
     },
     "execution_count": 190,
     "metadata": {},
     "output_type": "execute_result"
    }
   ],
   "source": [
    "local_courier.groupby(['status'])['payment_due'].mean()"
   ]
  },
  {
   "cell_type": "code",
   "execution_count": 191,
   "metadata": {},
   "outputs": [
    {
     "data": {
      "text/plain": [
       "status\n",
       "Assigned          30.000000\n",
       "Filled            30.890803\n",
       "Oversubscribed    40.000000\n",
       "Sent              20.000000\n",
       "Unfilled          26.961423\n",
       "Name: payment_due, dtype: float64"
      ]
     },
     "execution_count": 191,
     "metadata": {},
     "output_type": "execute_result"
    }
   ],
   "source": [
    "customer_service.groupby(['status'])['payment_due'].mean()"
   ]
  },
  {
   "cell_type": "code",
   "execution_count": 192,
   "metadata": {},
   "outputs": [
    {
     "data": {
      "text/plain": [
       "status\n",
       "Filled      26.004297\n",
       "Unfilled    29.661955\n",
       "Name: payment_due, dtype: float64"
      ]
     },
     "execution_count": 192,
     "metadata": {},
     "output_type": "execute_result"
    }
   ],
   "source": [
    "product_tester.groupby(['status']['payment_due'].mean()"
   ]
  },
  {
   "cell_type": "code",
   "execution_count": 225,
   "metadata": {},
   "outputs": [
    {
     "data": {
      "text/html": [
       "<div>\n",
       "<style scoped>\n",
       "    .dataframe tbody tr th:only-of-type {\n",
       "        vertical-align: middle;\n",
       "    }\n",
       "\n",
       "    .dataframe tbody tr th {\n",
       "        vertical-align: top;\n",
       "    }\n",
       "\n",
       "    .dataframe thead th {\n",
       "        text-align: right;\n",
       "    }\n",
       "</style>\n",
       "<table border=\"1\" class=\"dataframe\">\n",
       "  <thead>\n",
       "    <tr style=\"text-align: right;\">\n",
       "      <th></th>\n",
       "      <th></th>\n",
       "      <th>id</th>\n",
       "      <th>project</th>\n",
       "      <th>title</th>\n",
       "      <th>start</th>\n",
       "      <th>end</th>\n",
       "      <th>duration</th>\n",
       "      <th>rate</th>\n",
       "      <th>created_at</th>\n",
       "      <th>sent_at</th>\n",
       "      <th>seen_at</th>\n",
       "      <th>...</th>\n",
       "      <th>checkout_at</th>\n",
       "      <th>On time.1</th>\n",
       "      <th>performance_rating</th>\n",
       "      <th>payment_status</th>\n",
       "      <th>approval_status</th>\n",
       "      <th>payment_due</th>\n",
       "      <th>hours_worked</th>\n",
       "      <th>bonus</th>\n",
       "      <th>day_of_week</th>\n",
       "      <th>time_of_day</th>\n",
       "    </tr>\n",
       "    <tr>\n",
       "      <th>worker</th>\n",
       "      <th>status</th>\n",
       "      <th></th>\n",
       "      <th></th>\n",
       "      <th></th>\n",
       "      <th></th>\n",
       "      <th></th>\n",
       "      <th></th>\n",
       "      <th></th>\n",
       "      <th></th>\n",
       "      <th></th>\n",
       "      <th></th>\n",
       "      <th></th>\n",
       "      <th></th>\n",
       "      <th></th>\n",
       "      <th></th>\n",
       "      <th></th>\n",
       "      <th></th>\n",
       "      <th></th>\n",
       "      <th></th>\n",
       "      <th></th>\n",
       "      <th></th>\n",
       "      <th></th>\n",
       "    </tr>\n",
       "  </thead>\n",
       "  <tbody>\n",
       "    <tr>\n",
       "      <th rowspan=\"2\" valign=\"top\">009fa984</th>\n",
       "      <th>Filled</th>\n",
       "      <td>7</td>\n",
       "      <td>7</td>\n",
       "      <td>7</td>\n",
       "      <td>7</td>\n",
       "      <td>7</td>\n",
       "      <td>7</td>\n",
       "      <td>7</td>\n",
       "      <td>7</td>\n",
       "      <td>7</td>\n",
       "      <td>3</td>\n",
       "      <td>...</td>\n",
       "      <td>1</td>\n",
       "      <td>0</td>\n",
       "      <td>1</td>\n",
       "      <td>1</td>\n",
       "      <td>1</td>\n",
       "      <td>7</td>\n",
       "      <td>1</td>\n",
       "      <td>2</td>\n",
       "      <td>7</td>\n",
       "      <td>7</td>\n",
       "    </tr>\n",
       "    <tr>\n",
       "      <th>Unfilled</th>\n",
       "      <td>2</td>\n",
       "      <td>2</td>\n",
       "      <td>2</td>\n",
       "      <td>2</td>\n",
       "      <td>2</td>\n",
       "      <td>2</td>\n",
       "      <td>2</td>\n",
       "      <td>2</td>\n",
       "      <td>2</td>\n",
       "      <td>2</td>\n",
       "      <td>...</td>\n",
       "      <td>0</td>\n",
       "      <td>0</td>\n",
       "      <td>0</td>\n",
       "      <td>0</td>\n",
       "      <td>0</td>\n",
       "      <td>2</td>\n",
       "      <td>0</td>\n",
       "      <td>2</td>\n",
       "      <td>2</td>\n",
       "      <td>2</td>\n",
       "    </tr>\n",
       "    <tr>\n",
       "      <th rowspan=\"2\" valign=\"top\">011cbba7</th>\n",
       "      <th>Filled</th>\n",
       "      <td>14</td>\n",
       "      <td>14</td>\n",
       "      <td>14</td>\n",
       "      <td>14</td>\n",
       "      <td>14</td>\n",
       "      <td>14</td>\n",
       "      <td>14</td>\n",
       "      <td>14</td>\n",
       "      <td>14</td>\n",
       "      <td>4</td>\n",
       "      <td>...</td>\n",
       "      <td>1</td>\n",
       "      <td>0</td>\n",
       "      <td>1</td>\n",
       "      <td>1</td>\n",
       "      <td>1</td>\n",
       "      <td>14</td>\n",
       "      <td>1</td>\n",
       "      <td>5</td>\n",
       "      <td>14</td>\n",
       "      <td>14</td>\n",
       "    </tr>\n",
       "    <tr>\n",
       "      <th>Unfilled</th>\n",
       "      <td>12</td>\n",
       "      <td>12</td>\n",
       "      <td>12</td>\n",
       "      <td>12</td>\n",
       "      <td>12</td>\n",
       "      <td>12</td>\n",
       "      <td>12</td>\n",
       "      <td>12</td>\n",
       "      <td>12</td>\n",
       "      <td>11</td>\n",
       "      <td>...</td>\n",
       "      <td>0</td>\n",
       "      <td>0</td>\n",
       "      <td>0</td>\n",
       "      <td>0</td>\n",
       "      <td>0</td>\n",
       "      <td>12</td>\n",
       "      <td>0</td>\n",
       "      <td>8</td>\n",
       "      <td>12</td>\n",
       "      <td>12</td>\n",
       "    </tr>\n",
       "    <tr>\n",
       "      <th>014a095e</th>\n",
       "      <th>Unfilled</th>\n",
       "      <td>2</td>\n",
       "      <td>2</td>\n",
       "      <td>2</td>\n",
       "      <td>2</td>\n",
       "      <td>2</td>\n",
       "      <td>2</td>\n",
       "      <td>2</td>\n",
       "      <td>2</td>\n",
       "      <td>2</td>\n",
       "      <td>0</td>\n",
       "      <td>...</td>\n",
       "      <td>0</td>\n",
       "      <td>0</td>\n",
       "      <td>0</td>\n",
       "      <td>0</td>\n",
       "      <td>0</td>\n",
       "      <td>2</td>\n",
       "      <td>0</td>\n",
       "      <td>2</td>\n",
       "      <td>2</td>\n",
       "      <td>2</td>\n",
       "    </tr>\n",
       "  </tbody>\n",
       "</table>\n",
       "<p>5 rows × 28 columns</p>\n",
       "</div>"
      ],
      "text/plain": [
       "                   id  project  title  start  end  duration  rate  created_at  \\\n",
       "worker   status                                                                 \n",
       "009fa984 Filled     7        7      7      7    7         7     7           7   \n",
       "         Unfilled   2        2      2      2    2         2     2           2   \n",
       "011cbba7 Filled    14       14     14     14   14        14    14          14   \n",
       "         Unfilled  12       12     12     12   12        12    12          12   \n",
       "014a095e Unfilled   2        2      2      2    2         2     2           2   \n",
       "\n",
       "                   sent_at  seen_at  ...  checkout_at  On time.1  \\\n",
       "worker   status                      ...                           \n",
       "009fa984 Filled          7        3  ...            1          0   \n",
       "         Unfilled        2        2  ...            0          0   \n",
       "011cbba7 Filled         14        4  ...            1          0   \n",
       "         Unfilled       12       11  ...            0          0   \n",
       "014a095e Unfilled        2        0  ...            0          0   \n",
       "\n",
       "                   performance_rating  payment_status  approval_status  \\\n",
       "worker   status                                                          \n",
       "009fa984 Filled                     1               1                1   \n",
       "         Unfilled                   0               0                0   \n",
       "011cbba7 Filled                     1               1                1   \n",
       "         Unfilled                   0               0                0   \n",
       "014a095e Unfilled                   0               0                0   \n",
       "\n",
       "                   payment_due  hours_worked  bonus  day_of_week  time_of_day  \n",
       "worker   status                                                                \n",
       "009fa984 Filled              7             1      2            7            7  \n",
       "         Unfilled            2             0      2            2            2  \n",
       "011cbba7 Filled             14             1      5           14           14  \n",
       "         Unfilled           12             0      8           12           12  \n",
       "014a095e Unfilled            2             0      2            2            2  \n",
       "\n",
       "[5 rows x 28 columns]"
      ]
     },
     "execution_count": 225,
     "metadata": {},
     "output_type": "execute_result"
    }
   ],
   "source": [
    "workers = df.groupby(['worker','status']).count()\n",
    "workers.head()"
   ]
  },
  {
   "cell_type": "code",
   "execution_count": 207,
   "metadata": {},
   "outputs": [],
   "source": [
    "workers_df = workers.to_frame()"
   ]
  },
  {
   "cell_type": "code",
   "execution_count": 209,
   "metadata": {},
   "outputs": [
    {
     "data": {
      "text/html": [
       "<div>\n",
       "<style scoped>\n",
       "    .dataframe tbody tr th:only-of-type {\n",
       "        vertical-align: middle;\n",
       "    }\n",
       "\n",
       "    .dataframe tbody tr th {\n",
       "        vertical-align: top;\n",
       "    }\n",
       "\n",
       "    .dataframe thead th {\n",
       "        text-align: right;\n",
       "    }\n",
       "</style>\n",
       "<table border=\"1\" class=\"dataframe\">\n",
       "  <thead>\n",
       "    <tr style=\"text-align: right;\">\n",
       "      <th></th>\n",
       "      <th>status</th>\n",
       "    </tr>\n",
       "    <tr>\n",
       "      <th>worker</th>\n",
       "      <th></th>\n",
       "    </tr>\n",
       "  </thead>\n",
       "  <tbody>\n",
       "    <tr>\n",
       "      <th>b4d5abcb</th>\n",
       "      <td>1</td>\n",
       "    </tr>\n",
       "    <tr>\n",
       "      <th>caaa0cbd</th>\n",
       "      <td>1</td>\n",
       "    </tr>\n",
       "    <tr>\n",
       "      <th>9cf2c073</th>\n",
       "      <td>1</td>\n",
       "    </tr>\n",
       "    <tr>\n",
       "      <th>eddaa1cf</th>\n",
       "      <td>1</td>\n",
       "    </tr>\n",
       "    <tr>\n",
       "      <th>4c295efd</th>\n",
       "      <td>1</td>\n",
       "    </tr>\n",
       "    <tr>\n",
       "      <th>...</th>\n",
       "      <td>...</td>\n",
       "    </tr>\n",
       "    <tr>\n",
       "      <th>087547cd</th>\n",
       "      <td>360</td>\n",
       "    </tr>\n",
       "    <tr>\n",
       "      <th>148325cf</th>\n",
       "      <td>364</td>\n",
       "    </tr>\n",
       "    <tr>\n",
       "      <th>0d472817</th>\n",
       "      <td>369</td>\n",
       "    </tr>\n",
       "    <tr>\n",
       "      <th>de9e7270</th>\n",
       "      <td>370</td>\n",
       "    </tr>\n",
       "    <tr>\n",
       "      <th>5590a97d</th>\n",
       "      <td>371</td>\n",
       "    </tr>\n",
       "  </tbody>\n",
       "</table>\n",
       "<p>1696 rows × 1 columns</p>\n",
       "</div>"
      ],
      "text/plain": [
       "          status\n",
       "worker          \n",
       "b4d5abcb       1\n",
       "caaa0cbd       1\n",
       "9cf2c073       1\n",
       "eddaa1cf       1\n",
       "4c295efd       1\n",
       "...          ...\n",
       "087547cd     360\n",
       "148325cf     364\n",
       "0d472817     369\n",
       "de9e7270     370\n",
       "5590a97d     371\n",
       "\n",
       "[1696 rows x 1 columns]"
      ]
     },
     "execution_count": 209,
     "metadata": {},
     "output_type": "execute_result"
    }
   ],
   "source": [
    "workers_df.sort_values(by=['status'])"
   ]
  },
  {
   "cell_type": "code",
   "execution_count": 223,
   "metadata": {},
   "outputs": [
    {
     "name": "stdout",
     "output_type": "stream",
     "text": [
      "<pandas.core.groupby.generic.SeriesGroupBy object at 0x1a2cfe1090>\n"
     ]
    }
   ],
   "source": [
    "workers2 = df.groupby(['worker'])['status']\n",
    "print(workers2)"
   ]
  },
  {
   "cell_type": "code",
   "execution_count": 210,
   "metadata": {},
   "outputs": [],
   "source": [
    "df['start'] = pd.to_datetime(df['start']) "
   ]
  },
  {
   "cell_type": "code",
   "execution_count": 211,
   "metadata": {},
   "outputs": [],
   "source": [
    "df['time_of_day'] = df['start'].dt.time"
   ]
  },
  {
   "cell_type": "code",
   "execution_count": 212,
   "metadata": {},
   "outputs": [
    {
     "data": {
      "text/plain": [
       "<pandas.core.groupby.generic.SeriesGroupBy object at 0x1a2ce44310>"
      ]
     },
     "execution_count": 212,
     "metadata": {},
     "output_type": "execute_result"
    }
   ],
   "source": [
    "df.groupby(['status'])['start']"
   ]
  },
  {
   "cell_type": "code",
   "execution_count": 213,
   "metadata": {},
   "outputs": [
    {
     "data": {
      "text/html": [
       "<div>\n",
       "<style scoped>\n",
       "    .dataframe tbody tr th:only-of-type {\n",
       "        vertical-align: middle;\n",
       "    }\n",
       "\n",
       "    .dataframe tbody tr th {\n",
       "        vertical-align: top;\n",
       "    }\n",
       "\n",
       "    .dataframe thead th {\n",
       "        text-align: right;\n",
       "    }\n",
       "</style>\n",
       "<table border=\"1\" class=\"dataframe\">\n",
       "  <thead>\n",
       "    <tr style=\"text-align: right;\">\n",
       "      <th></th>\n",
       "      <th>id</th>\n",
       "      <th>worker</th>\n",
       "      <th>project</th>\n",
       "      <th>status</th>\n",
       "      <th>title</th>\n",
       "      <th>start</th>\n",
       "      <th>end</th>\n",
       "      <th>duration</th>\n",
       "      <th>rate</th>\n",
       "      <th>created_at</th>\n",
       "      <th>...</th>\n",
       "      <th>checkout_at</th>\n",
       "      <th>On time.1</th>\n",
       "      <th>performance_rating</th>\n",
       "      <th>payment_status</th>\n",
       "      <th>approval_status</th>\n",
       "      <th>payment_due</th>\n",
       "      <th>hours_worked</th>\n",
       "      <th>bonus</th>\n",
       "      <th>day_of_week</th>\n",
       "      <th>time_of_day</th>\n",
       "    </tr>\n",
       "  </thead>\n",
       "  <tbody>\n",
       "    <tr>\n",
       "      <th>0</th>\n",
       "      <td>58890</td>\n",
       "      <td>6c2978aa</td>\n",
       "      <td>Product Tester</td>\n",
       "      <td>Filled</td>\n",
       "      <td>Product Tester (Dallas)</td>\n",
       "      <td>2021-03-25 20:00:00</td>\n",
       "      <td>3/25/21 21:30</td>\n",
       "      <td>1.5</td>\n",
       "      <td>20</td>\n",
       "      <td>3/19/21 22:51</td>\n",
       "      <td>...</td>\n",
       "      <td>3/25/21 22:17</td>\n",
       "      <td>NaN</td>\n",
       "      <td>1.0</td>\n",
       "      <td>paid</td>\n",
       "      <td>approved</td>\n",
       "      <td>41.40</td>\n",
       "      <td>2.06</td>\n",
       "      <td>100.0</td>\n",
       "      <td>Thursday</td>\n",
       "      <td>20:00:00</td>\n",
       "    </tr>\n",
       "    <tr>\n",
       "      <th>1</th>\n",
       "      <td>8769</td>\n",
       "      <td>016c3ad6</td>\n",
       "      <td>Local Courier</td>\n",
       "      <td>Filled</td>\n",
       "      <td>Local Courier (Dallas)</td>\n",
       "      <td>2021-03-26 14:25:00</td>\n",
       "      <td>3/26/21 17:00</td>\n",
       "      <td>2.5</td>\n",
       "      <td>12</td>\n",
       "      <td>3/26/21 14:19</td>\n",
       "      <td>...</td>\n",
       "      <td>3/26/21 18:30</td>\n",
       "      <td>NaN</td>\n",
       "      <td>1.0</td>\n",
       "      <td>paid</td>\n",
       "      <td>approved</td>\n",
       "      <td>30.00</td>\n",
       "      <td>1.88</td>\n",
       "      <td>50.0</td>\n",
       "      <td>Friday</td>\n",
       "      <td>14:25:00</td>\n",
       "    </tr>\n",
       "    <tr>\n",
       "      <th>2</th>\n",
       "      <td>25104</td>\n",
       "      <td>8f06633b</td>\n",
       "      <td>Product Tester</td>\n",
       "      <td>Filled</td>\n",
       "      <td>Product Tester (Dallas)</td>\n",
       "      <td>2021-03-24 14:00:00</td>\n",
       "      <td>3/24/21 15:30</td>\n",
       "      <td>1.5</td>\n",
       "      <td>20</td>\n",
       "      <td>3/18/21 15:08</td>\n",
       "      <td>...</td>\n",
       "      <td>3/24/21 16:02</td>\n",
       "      <td>NaN</td>\n",
       "      <td>1.0</td>\n",
       "      <td>paid</td>\n",
       "      <td>approved</td>\n",
       "      <td>40.00</td>\n",
       "      <td>2.15</td>\n",
       "      <td>50.0</td>\n",
       "      <td>Wednesday</td>\n",
       "      <td>14:00:00</td>\n",
       "    </tr>\n",
       "    <tr>\n",
       "      <th>3</th>\n",
       "      <td>47791</td>\n",
       "      <td>b68f79f8</td>\n",
       "      <td>Local Courier</td>\n",
       "      <td>Filled</td>\n",
       "      <td>Local Courier (Sacremento)</td>\n",
       "      <td>2021-03-23 22:10:00</td>\n",
       "      <td>3/24/21 1:10</td>\n",
       "      <td>3.0</td>\n",
       "      <td>17</td>\n",
       "      <td>3/23/21 22:08</td>\n",
       "      <td>...</td>\n",
       "      <td>3/24/21 4:14</td>\n",
       "      <td>NaN</td>\n",
       "      <td>1.0</td>\n",
       "      <td>paid</td>\n",
       "      <td>approved</td>\n",
       "      <td>51.00</td>\n",
       "      <td>6.09</td>\n",
       "      <td>50.0</td>\n",
       "      <td>Tuesday</td>\n",
       "      <td>22:10:00</td>\n",
       "    </tr>\n",
       "    <tr>\n",
       "      <th>4</th>\n",
       "      <td>32056</td>\n",
       "      <td>ddcb2032</td>\n",
       "      <td>Local Courier</td>\n",
       "      <td>Filled</td>\n",
       "      <td>Local Courier (SF)</td>\n",
       "      <td>2021-03-17 19:45:00</td>\n",
       "      <td>3/17/21 22:45</td>\n",
       "      <td>3.0</td>\n",
       "      <td>19</td>\n",
       "      <td>3/17/21 19:50</td>\n",
       "      <td>...</td>\n",
       "      <td>3/17/21 23:00</td>\n",
       "      <td>NaN</td>\n",
       "      <td>1.0</td>\n",
       "      <td>paid</td>\n",
       "      <td>approved</td>\n",
       "      <td>65.17</td>\n",
       "      <td>3.99</td>\n",
       "      <td>20.0</td>\n",
       "      <td>Wednesday</td>\n",
       "      <td>19:45:00</td>\n",
       "    </tr>\n",
       "  </tbody>\n",
       "</table>\n",
       "<p>5 rows × 30 columns</p>\n",
       "</div>"
      ],
      "text/plain": [
       "      id    worker         project  status                       title  \\\n",
       "0  58890  6c2978aa  Product Tester  Filled     Product Tester (Dallas)   \n",
       "1   8769  016c3ad6   Local Courier  Filled      Local Courier (Dallas)   \n",
       "2  25104  8f06633b  Product Tester  Filled     Product Tester (Dallas)   \n",
       "3  47791  b68f79f8   Local Courier  Filled  Local Courier (Sacremento)   \n",
       "4  32056  ddcb2032   Local Courier  Filled          Local Courier (SF)   \n",
       "\n",
       "                start            end  duration  rate     created_at  ...  \\\n",
       "0 2021-03-25 20:00:00  3/25/21 21:30       1.5    20  3/19/21 22:51  ...   \n",
       "1 2021-03-26 14:25:00  3/26/21 17:00       2.5    12  3/26/21 14:19  ...   \n",
       "2 2021-03-24 14:00:00  3/24/21 15:30       1.5    20  3/18/21 15:08  ...   \n",
       "3 2021-03-23 22:10:00   3/24/21 1:10       3.0    17  3/23/21 22:08  ...   \n",
       "4 2021-03-17 19:45:00  3/17/21 22:45       3.0    19  3/17/21 19:50  ...   \n",
       "\n",
       "     checkout_at On time.1 performance_rating payment_status approval_status  \\\n",
       "0  3/25/21 22:17       NaN                1.0           paid        approved   \n",
       "1  3/26/21 18:30       NaN                1.0           paid        approved   \n",
       "2  3/24/21 16:02       NaN                1.0           paid        approved   \n",
       "3   3/24/21 4:14       NaN                1.0           paid        approved   \n",
       "4  3/17/21 23:00       NaN                1.0           paid        approved   \n",
       "\n",
       "  payment_due hours_worked  bonus day_of_week  time_of_day  \n",
       "0       41.40         2.06  100.0    Thursday     20:00:00  \n",
       "1       30.00         1.88   50.0      Friday     14:25:00  \n",
       "2       40.00         2.15   50.0   Wednesday     14:00:00  \n",
       "3       51.00         6.09   50.0     Tuesday     22:10:00  \n",
       "4       65.17         3.99   20.0   Wednesday     19:45:00  \n",
       "\n",
       "[5 rows x 30 columns]"
      ]
     },
     "execution_count": 213,
     "metadata": {},
     "output_type": "execute_result"
    }
   ],
   "source": [
    "df.head()"
   ]
  },
  {
   "cell_type": "code",
   "execution_count": 230,
   "metadata": {},
   "outputs": [
    {
     "data": {
      "text/html": [
       "<div>\n",
       "<style scoped>\n",
       "    .dataframe tbody tr th:only-of-type {\n",
       "        vertical-align: middle;\n",
       "    }\n",
       "\n",
       "    .dataframe tbody tr th {\n",
       "        vertical-align: top;\n",
       "    }\n",
       "\n",
       "    .dataframe thead th {\n",
       "        text-align: right;\n",
       "    }\n",
       "</style>\n",
       "<table border=\"1\" class=\"dataframe\">\n",
       "  <thead>\n",
       "    <tr style=\"text-align: right;\">\n",
       "      <th></th>\n",
       "      <th>id</th>\n",
       "      <th>worker</th>\n",
       "      <th>project</th>\n",
       "      <th>status</th>\n",
       "      <th>title</th>\n",
       "      <th>start</th>\n",
       "      <th>end</th>\n",
       "      <th>duration</th>\n",
       "      <th>rate</th>\n",
       "      <th>created_at</th>\n",
       "      <th>...</th>\n",
       "      <th>On time.1</th>\n",
       "      <th>performance_rating</th>\n",
       "      <th>payment_status</th>\n",
       "      <th>approval_status</th>\n",
       "      <th>payment_due</th>\n",
       "      <th>hours_worked</th>\n",
       "      <th>bonus</th>\n",
       "      <th>day_of_week</th>\n",
       "      <th>time_of_day</th>\n",
       "      <th>hour</th>\n",
       "    </tr>\n",
       "  </thead>\n",
       "  <tbody>\n",
       "    <tr>\n",
       "      <th>0</th>\n",
       "      <td>58890</td>\n",
       "      <td>6c2978aa</td>\n",
       "      <td>Product Tester</td>\n",
       "      <td>Filled</td>\n",
       "      <td>Product Tester (Dallas)</td>\n",
       "      <td>2021-03-25 20:00:00</td>\n",
       "      <td>3/25/21 21:30</td>\n",
       "      <td>1.5</td>\n",
       "      <td>20</td>\n",
       "      <td>3/19/21 22:51</td>\n",
       "      <td>...</td>\n",
       "      <td>NaN</td>\n",
       "      <td>1.0</td>\n",
       "      <td>paid</td>\n",
       "      <td>approved</td>\n",
       "      <td>41.40</td>\n",
       "      <td>2.06</td>\n",
       "      <td>100.0</td>\n",
       "      <td>Thursday</td>\n",
       "      <td>20:00:00</td>\n",
       "      <td>20</td>\n",
       "    </tr>\n",
       "    <tr>\n",
       "      <th>1</th>\n",
       "      <td>8769</td>\n",
       "      <td>016c3ad6</td>\n",
       "      <td>Local Courier</td>\n",
       "      <td>Filled</td>\n",
       "      <td>Local Courier (Dallas)</td>\n",
       "      <td>2021-03-26 14:25:00</td>\n",
       "      <td>3/26/21 17:00</td>\n",
       "      <td>2.5</td>\n",
       "      <td>12</td>\n",
       "      <td>3/26/21 14:19</td>\n",
       "      <td>...</td>\n",
       "      <td>NaN</td>\n",
       "      <td>1.0</td>\n",
       "      <td>paid</td>\n",
       "      <td>approved</td>\n",
       "      <td>30.00</td>\n",
       "      <td>1.88</td>\n",
       "      <td>50.0</td>\n",
       "      <td>Friday</td>\n",
       "      <td>14:25:00</td>\n",
       "      <td>14</td>\n",
       "    </tr>\n",
       "    <tr>\n",
       "      <th>2</th>\n",
       "      <td>25104</td>\n",
       "      <td>8f06633b</td>\n",
       "      <td>Product Tester</td>\n",
       "      <td>Filled</td>\n",
       "      <td>Product Tester (Dallas)</td>\n",
       "      <td>2021-03-24 14:00:00</td>\n",
       "      <td>3/24/21 15:30</td>\n",
       "      <td>1.5</td>\n",
       "      <td>20</td>\n",
       "      <td>3/18/21 15:08</td>\n",
       "      <td>...</td>\n",
       "      <td>NaN</td>\n",
       "      <td>1.0</td>\n",
       "      <td>paid</td>\n",
       "      <td>approved</td>\n",
       "      <td>40.00</td>\n",
       "      <td>2.15</td>\n",
       "      <td>50.0</td>\n",
       "      <td>Wednesday</td>\n",
       "      <td>14:00:00</td>\n",
       "      <td>14</td>\n",
       "    </tr>\n",
       "    <tr>\n",
       "      <th>3</th>\n",
       "      <td>47791</td>\n",
       "      <td>b68f79f8</td>\n",
       "      <td>Local Courier</td>\n",
       "      <td>Filled</td>\n",
       "      <td>Local Courier (Sacremento)</td>\n",
       "      <td>2021-03-23 22:10:00</td>\n",
       "      <td>3/24/21 1:10</td>\n",
       "      <td>3.0</td>\n",
       "      <td>17</td>\n",
       "      <td>3/23/21 22:08</td>\n",
       "      <td>...</td>\n",
       "      <td>NaN</td>\n",
       "      <td>1.0</td>\n",
       "      <td>paid</td>\n",
       "      <td>approved</td>\n",
       "      <td>51.00</td>\n",
       "      <td>6.09</td>\n",
       "      <td>50.0</td>\n",
       "      <td>Tuesday</td>\n",
       "      <td>22:10:00</td>\n",
       "      <td>22</td>\n",
       "    </tr>\n",
       "    <tr>\n",
       "      <th>4</th>\n",
       "      <td>32056</td>\n",
       "      <td>ddcb2032</td>\n",
       "      <td>Local Courier</td>\n",
       "      <td>Filled</td>\n",
       "      <td>Local Courier (SF)</td>\n",
       "      <td>2021-03-17 19:45:00</td>\n",
       "      <td>3/17/21 22:45</td>\n",
       "      <td>3.0</td>\n",
       "      <td>19</td>\n",
       "      <td>3/17/21 19:50</td>\n",
       "      <td>...</td>\n",
       "      <td>NaN</td>\n",
       "      <td>1.0</td>\n",
       "      <td>paid</td>\n",
       "      <td>approved</td>\n",
       "      <td>65.17</td>\n",
       "      <td>3.99</td>\n",
       "      <td>20.0</td>\n",
       "      <td>Wednesday</td>\n",
       "      <td>19:45:00</td>\n",
       "      <td>19</td>\n",
       "    </tr>\n",
       "  </tbody>\n",
       "</table>\n",
       "<p>5 rows × 31 columns</p>\n",
       "</div>"
      ],
      "text/plain": [
       "      id    worker         project  status                       title  \\\n",
       "0  58890  6c2978aa  Product Tester  Filled     Product Tester (Dallas)   \n",
       "1   8769  016c3ad6   Local Courier  Filled      Local Courier (Dallas)   \n",
       "2  25104  8f06633b  Product Tester  Filled     Product Tester (Dallas)   \n",
       "3  47791  b68f79f8   Local Courier  Filled  Local Courier (Sacremento)   \n",
       "4  32056  ddcb2032   Local Courier  Filled          Local Courier (SF)   \n",
       "\n",
       "                start            end  duration  rate     created_at  ...  \\\n",
       "0 2021-03-25 20:00:00  3/25/21 21:30       1.5    20  3/19/21 22:51  ...   \n",
       "1 2021-03-26 14:25:00  3/26/21 17:00       2.5    12  3/26/21 14:19  ...   \n",
       "2 2021-03-24 14:00:00  3/24/21 15:30       1.5    20  3/18/21 15:08  ...   \n",
       "3 2021-03-23 22:10:00   3/24/21 1:10       3.0    17  3/23/21 22:08  ...   \n",
       "4 2021-03-17 19:45:00  3/17/21 22:45       3.0    19  3/17/21 19:50  ...   \n",
       "\n",
       "  On time.1 performance_rating payment_status approval_status payment_due  \\\n",
       "0       NaN                1.0           paid        approved       41.40   \n",
       "1       NaN                1.0           paid        approved       30.00   \n",
       "2       NaN                1.0           paid        approved       40.00   \n",
       "3       NaN                1.0           paid        approved       51.00   \n",
       "4       NaN                1.0           paid        approved       65.17   \n",
       "\n",
       "  hours_worked  bonus day_of_week time_of_day  hour  \n",
       "0         2.06  100.0    Thursday    20:00:00    20  \n",
       "1         1.88   50.0      Friday    14:25:00    14  \n",
       "2         2.15   50.0   Wednesday    14:00:00    14  \n",
       "3         6.09   50.0     Tuesday    22:10:00    22  \n",
       "4         3.99   20.0   Wednesday    19:45:00    19  \n",
       "\n",
       "[5 rows x 31 columns]"
      ]
     },
     "execution_count": 230,
     "metadata": {},
     "output_type": "execute_result"
    }
   ],
   "source": [
    "df['hour'] = pd.to_datetime(df['time_of_day'], format='%H:%M:%S').dt.hour\n",
    "df.head()"
   ]
  },
  {
   "cell_type": "code",
   "execution_count": 231,
   "metadata": {},
   "outputs": [
    {
     "data": {
      "text/html": [
       "<div>\n",
       "<style scoped>\n",
       "    .dataframe tbody tr th:only-of-type {\n",
       "        vertical-align: middle;\n",
       "    }\n",
       "\n",
       "    .dataframe tbody tr th {\n",
       "        vertical-align: top;\n",
       "    }\n",
       "\n",
       "    .dataframe thead th {\n",
       "        text-align: right;\n",
       "    }\n",
       "</style>\n",
       "<table border=\"1\" class=\"dataframe\">\n",
       "  <thead>\n",
       "    <tr style=\"text-align: right;\">\n",
       "      <th>hour</th>\n",
       "      <th>0</th>\n",
       "      <th>1</th>\n",
       "      <th>2</th>\n",
       "      <th>3</th>\n",
       "      <th>4</th>\n",
       "      <th>6</th>\n",
       "      <th>9</th>\n",
       "      <th>12</th>\n",
       "      <th>13</th>\n",
       "      <th>14</th>\n",
       "      <th>15</th>\n",
       "      <th>16</th>\n",
       "      <th>17</th>\n",
       "      <th>18</th>\n",
       "      <th>19</th>\n",
       "      <th>20</th>\n",
       "      <th>21</th>\n",
       "      <th>22</th>\n",
       "      <th>23</th>\n",
       "    </tr>\n",
       "    <tr>\n",
       "      <th>status</th>\n",
       "      <th></th>\n",
       "      <th></th>\n",
       "      <th></th>\n",
       "      <th></th>\n",
       "      <th></th>\n",
       "      <th></th>\n",
       "      <th></th>\n",
       "      <th></th>\n",
       "      <th></th>\n",
       "      <th></th>\n",
       "      <th></th>\n",
       "      <th></th>\n",
       "      <th></th>\n",
       "      <th></th>\n",
       "      <th></th>\n",
       "      <th></th>\n",
       "      <th></th>\n",
       "      <th></th>\n",
       "      <th></th>\n",
       "    </tr>\n",
       "  </thead>\n",
       "  <tbody>\n",
       "    <tr>\n",
       "      <th>Filled</th>\n",
       "      <td>1540</td>\n",
       "      <td>2061</td>\n",
       "      <td>442</td>\n",
       "      <td>853</td>\n",
       "      <td>246</td>\n",
       "      <td>80</td>\n",
       "      <td>112</td>\n",
       "      <td>80</td>\n",
       "      <td>1093</td>\n",
       "      <td>4876</td>\n",
       "      <td>5118</td>\n",
       "      <td>3264</td>\n",
       "      <td>3407</td>\n",
       "      <td>2815</td>\n",
       "      <td>4150</td>\n",
       "      <td>2998</td>\n",
       "      <td>1821</td>\n",
       "      <td>3930</td>\n",
       "      <td>2005</td>\n",
       "    </tr>\n",
       "    <tr>\n",
       "      <th>Unfilled</th>\n",
       "      <td>1499</td>\n",
       "      <td>760</td>\n",
       "      <td>12</td>\n",
       "      <td>41</td>\n",
       "      <td>1</td>\n",
       "      <td>8</td>\n",
       "      <td>2</td>\n",
       "      <td>10</td>\n",
       "      <td>716</td>\n",
       "      <td>3347</td>\n",
       "      <td>2986</td>\n",
       "      <td>2001</td>\n",
       "      <td>6404</td>\n",
       "      <td>2048</td>\n",
       "      <td>3419</td>\n",
       "      <td>5000</td>\n",
       "      <td>1820</td>\n",
       "      <td>3627</td>\n",
       "      <td>845</td>\n",
       "    </tr>\n",
       "  </tbody>\n",
       "</table>\n",
       "</div>"
      ],
      "text/plain": [
       "hour        0     1    2    3    4   6    9   12    13    14    15    16  \\\n",
       "status                                                                     \n",
       "Filled    1540  2061  442  853  246  80  112  80  1093  4876  5118  3264   \n",
       "Unfilled  1499   760   12   41    1   8    2  10   716  3347  2986  2001   \n",
       "\n",
       "hour        17    18    19    20    21    22    23  \n",
       "status                                              \n",
       "Filled    3407  2815  4150  2998  1821  3930  2005  \n",
       "Unfilled  6404  2048  3419  5000  1820  3627   845  "
      ]
     },
     "execution_count": 231,
     "metadata": {},
     "output_type": "execute_result"
    }
   ],
   "source": [
    "pd.crosstab(df.status, df.hour)"
   ]
  },
  {
   "cell_type": "code",
   "execution_count": 232,
   "metadata": {},
   "outputs": [
    {
     "data": {
      "text/plain": [
       "(5028.979170331375,\n",
       " 0.0,\n",
       " 18,\n",
       " array([[1647.30502273, 1529.1370415 ,  246.09295173,  484.59713403,\n",
       "          133.88757506,   47.70083646,   61.79426541,   48.78494638,\n",
       "          980.57742222, 4457.31793417, 4392.81339396, 2853.91936318,\n",
       "         5318.10121028, 2636.01326935, 4102.81399048, 4335.35556822,\n",
       "         1973.62210851, 4096.30933096, 1544.85663534],\n",
       "        [1391.69497727, 1291.8629585 ,  207.90704827,  409.40286597,\n",
       "          113.11242494,   40.29916354,   52.20573459,   41.21505362,\n",
       "          828.42257778, 3765.68206583, 3711.18660604, 2411.08063682,\n",
       "         4492.89878972, 2226.98673065, 3466.18600952, 3662.64443178,\n",
       "         1667.37789149, 3460.69066904, 1305.14336466]]))"
      ]
     },
     "execution_count": 232,
     "metadata": {},
     "output_type": "execute_result"
    }
   ],
   "source": [
    "chi2_contingency(pd.crosstab(df.status, df.hour))"
   ]
  },
  {
   "cell_type": "code",
   "execution_count": 233,
   "metadata": {},
   "outputs": [],
   "source": [
    "df.to_csv('filled_unfilled.csv')"
   ]
  },
  {
   "cell_type": "code",
   "execution_count": 234,
   "metadata": {},
   "outputs": [
    {
     "name": "stdout",
     "output_type": "stream",
     "text": [
      "<class 'pandas.core.frame.DataFrame'>\n",
      "Int64Index: 36985 entries, 1 to 74926\n",
      "Data columns (total 28 columns):\n",
      " #   Column              Non-Null Count  Dtype  \n",
      "---  ------              --------------  -----  \n",
      " 0   id                  36985 non-null  int64  \n",
      " 1   worker              36985 non-null  object \n",
      " 2   project             36985 non-null  object \n",
      " 3   status              36985 non-null  object \n",
      " 4   title               36985 non-null  object \n",
      " 5   start               36985 non-null  object \n",
      " 6   end                 36985 non-null  object \n",
      " 7   duration            36985 non-null  float64\n",
      " 8   rate                36985 non-null  int64  \n",
      " 9   created_at          36985 non-null  object \n",
      " 10  sent_at             36621 non-null  object \n",
      " 11  seen_at             11940 non-null  object \n",
      " 12  assigned_at         2985 non-null   object \n",
      " 13  canceled_at         3012 non-null   object \n",
      " 14  confirmed_at        1875 non-null   object \n",
      " 15  confirmedby         0 non-null      object \n",
      " 16  canceled_by         2919 non-null   object \n",
      " 17  confirmed_by        35 non-null     object \n",
      " 18  checkin_at          2090 non-null   object \n",
      " 19  On time             0 non-null      float64\n",
      " 20  checkout_at         2023 non-null   object \n",
      " 21  On time.1           0 non-null      float64\n",
      " 22  performance_rating  2090 non-null   float64\n",
      " 23  payment_status      1942 non-null   object \n",
      " 24  approval_status     2109 non-null   object \n",
      " 25  payment_due         36985 non-null  float64\n",
      " 26  hours_worked        2023 non-null   float64\n",
      " 27  bonus               13464 non-null  float64\n",
      "dtypes: float64(7), int64(2), object(19)\n",
      "memory usage: 8.2+ MB\n"
     ]
    }
   ],
   "source": [
    "local_courier.info()"
   ]
  },
  {
   "cell_type": "code",
   "execution_count": 236,
   "metadata": {},
   "outputs": [
    {
     "name": "stdout",
     "output_type": "stream",
     "text": [
      "0.36403947546302556\n"
     ]
    }
   ],
   "source": [
    "lc_bonus = 13464/36985\n",
    "print(lc_bonus)"
   ]
  },
  {
   "cell_type": "code",
   "execution_count": 237,
   "metadata": {},
   "outputs": [
    {
     "name": "stdout",
     "output_type": "stream",
     "text": [
      "<class 'pandas.core.frame.DataFrame'>\n",
      "Int64Index: 18948 entries, 5 to 73402\n",
      "Data columns (total 28 columns):\n",
      " #   Column              Non-Null Count  Dtype  \n",
      "---  ------              --------------  -----  \n",
      " 0   id                  18948 non-null  int64  \n",
      " 1   worker              18948 non-null  object \n",
      " 2   project             18948 non-null  object \n",
      " 3   status              18948 non-null  object \n",
      " 4   title               18948 non-null  object \n",
      " 5   start               18948 non-null  object \n",
      " 6   end                 18948 non-null  object \n",
      " 7   duration            18948 non-null  float64\n",
      " 8   rate                18948 non-null  int64  \n",
      " 9   created_at          18948 non-null  object \n",
      " 10  sent_at             18865 non-null  object \n",
      " 11  seen_at             13081 non-null  object \n",
      " 12  assigned_at         4790 non-null   object \n",
      " 13  canceled_at         2075 non-null   object \n",
      " 14  confirmed_at        2340 non-null   object \n",
      " 15  confirmedby         1 non-null      object \n",
      " 16  canceled_by         1611 non-null   object \n",
      " 17  confirmed_by        46 non-null     object \n",
      " 18  checkin_at          3123 non-null   object \n",
      " 19  On time             0 non-null      float64\n",
      " 20  checkout_at         3077 non-null   object \n",
      " 21  On time.1           0 non-null      float64\n",
      " 22  performance_rating  3123 non-null   float64\n",
      " 23  payment_status      1576 non-null   object \n",
      " 24  approval_status     3168 non-null   object \n",
      " 25  payment_due         18948 non-null  float64\n",
      " 26  hours_worked        3077 non-null   float64\n",
      " 27  bonus               0 non-null      float64\n",
      "dtypes: float64(7), int64(2), object(19)\n",
      "memory usage: 4.2+ MB\n"
     ]
    }
   ],
   "source": [
    "customer_service.info()"
   ]
  },
  {
   "cell_type": "code",
   "execution_count": 238,
   "metadata": {},
   "outputs": [
    {
     "name": "stdout",
     "output_type": "stream",
     "text": [
      "<class 'pandas.core.frame.DataFrame'>\n",
      "Int64Index: 19504 entries, 0 to 75436\n",
      "Data columns (total 28 columns):\n",
      " #   Column              Non-Null Count  Dtype  \n",
      "---  ------              --------------  -----  \n",
      " 0   id                  19504 non-null  int64  \n",
      " 1   worker              19504 non-null  object \n",
      " 2   project             19504 non-null  object \n",
      " 3   status              19504 non-null  object \n",
      " 4   title               19504 non-null  object \n",
      " 5   start               19504 non-null  object \n",
      " 6   end                 19504 non-null  object \n",
      " 7   duration            19504 non-null  float64\n",
      " 8   rate                19504 non-null  int64  \n",
      " 9   created_at          19504 non-null  object \n",
      " 10  sent_at             19445 non-null  object \n",
      " 11  seen_at             8781 non-null   object \n",
      " 12  assigned_at         548 non-null    object \n",
      " 13  canceled_at         351 non-null    object \n",
      " 14  confirmed_at        332 non-null    object \n",
      " 15  confirmedby         0 non-null      object \n",
      " 16  canceled_by         274 non-null    object \n",
      " 17  confirmed_by        154 non-null    object \n",
      " 18  checkin_at          221 non-null    object \n",
      " 19  On time             0 non-null      float64\n",
      " 20  checkout_at         213 non-null    object \n",
      " 21  On time.1           0 non-null      float64\n",
      " 22  performance_rating  221 non-null    float64\n",
      " 23  payment_status      209 non-null    object \n",
      " 24  approval_status     277 non-null    object \n",
      " 25  payment_due         19504 non-null  float64\n",
      " 26  hours_worked        213 non-null    float64\n",
      " 27  bonus               11881 non-null  float64\n",
      "dtypes: float64(7), int64(2), object(19)\n",
      "memory usage: 4.3+ MB\n"
     ]
    }
   ],
   "source": [
    "product_tester.info()"
   ]
  },
  {
   "cell_type": "code",
   "execution_count": 239,
   "metadata": {},
   "outputs": [
    {
     "name": "stdout",
     "output_type": "stream",
     "text": [
      "0.6091570959803118\n"
     ]
    }
   ],
   "source": [
    "pt_bonus = 11881/19504\n",
    "print(pt_bonus)"
   ]
  },
  {
   "cell_type": "code",
   "execution_count": null,
   "metadata": {},
   "outputs": [],
   "source": []
  }
 ],
 "metadata": {
  "kernelspec": {
   "display_name": "Python 3",
   "language": "python",
   "name": "python3"
  },
  "language_info": {
   "codemirror_mode": {
    "name": "ipython",
    "version": 3
   },
   "file_extension": ".py",
   "mimetype": "text/x-python",
   "name": "python",
   "nbconvert_exporter": "python",
   "pygments_lexer": "ipython3",
   "version": "3.7.6"
  }
 },
 "nbformat": 4,
 "nbformat_minor": 4
}
